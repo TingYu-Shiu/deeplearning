{
  "nbformat": 4,
  "nbformat_minor": 0,
  "metadata": {
    "colab": {
      "provenance": [],
      "gpuType": "T4"
    },
    "kernelspec": {
      "name": "python3",
      "display_name": "Python 3"
    },
    "language_info": {
      "name": "python"
    },
    "widgets": {
      "application/vnd.jupyter.widget-state+json": {
        "a7c5a7fc9a7e4ce4bc8727389256f1e4": {
          "model_module": "@jupyter-widgets/controls",
          "model_name": "HBoxModel",
          "model_module_version": "1.5.0",
          "state": {
            "_dom_classes": [],
            "_model_module": "@jupyter-widgets/controls",
            "_model_module_version": "1.5.0",
            "_model_name": "HBoxModel",
            "_view_count": null,
            "_view_module": "@jupyter-widgets/controls",
            "_view_module_version": "1.5.0",
            "_view_name": "HBoxView",
            "box_style": "",
            "children": [
              "IPY_MODEL_9eea40bb1294476cb8915476603e1b7e",
              "IPY_MODEL_bb23b7f97c984db6952a9b99183738f4",
              "IPY_MODEL_4747be05cc0848449c8fd1adcbe7b7f9"
            ],
            "layout": "IPY_MODEL_cf02ecdc7641445582b80eb049c3a9f7"
          }
        },
        "9eea40bb1294476cb8915476603e1b7e": {
          "model_module": "@jupyter-widgets/controls",
          "model_name": "HTMLModel",
          "model_module_version": "1.5.0",
          "state": {
            "_dom_classes": [],
            "_model_module": "@jupyter-widgets/controls",
            "_model_module_version": "1.5.0",
            "_model_name": "HTMLModel",
            "_view_count": null,
            "_view_module": "@jupyter-widgets/controls",
            "_view_module_version": "1.5.0",
            "_view_name": "HTMLView",
            "description": "",
            "description_tooltip": null,
            "layout": "IPY_MODEL_79f005c1fb92447da5431a06b616aad5",
            "placeholder": "​",
            "style": "IPY_MODEL_194b106d507c4b079def769cd4d87444",
            "value": "  0%"
          }
        },
        "bb23b7f97c984db6952a9b99183738f4": {
          "model_module": "@jupyter-widgets/controls",
          "model_name": "FloatProgressModel",
          "model_module_version": "1.5.0",
          "state": {
            "_dom_classes": [],
            "_model_module": "@jupyter-widgets/controls",
            "_model_module_version": "1.5.0",
            "_model_name": "FloatProgressModel",
            "_view_count": null,
            "_view_module": "@jupyter-widgets/controls",
            "_view_module_version": "1.5.0",
            "_view_name": "ProgressView",
            "bar_style": "danger",
            "description": "",
            "description_tooltip": null,
            "layout": "IPY_MODEL_ed4d14abee2e43caa256ae48619442f8",
            "max": 3,
            "min": 0,
            "orientation": "horizontal",
            "style": "IPY_MODEL_6d3e6485640e44a08887bb58a55280dd",
            "value": 0
          }
        },
        "4747be05cc0848449c8fd1adcbe7b7f9": {
          "model_module": "@jupyter-widgets/controls",
          "model_name": "HTMLModel",
          "model_module_version": "1.5.0",
          "state": {
            "_dom_classes": [],
            "_model_module": "@jupyter-widgets/controls",
            "_model_module_version": "1.5.0",
            "_model_name": "HTMLModel",
            "_view_count": null,
            "_view_module": "@jupyter-widgets/controls",
            "_view_module_version": "1.5.0",
            "_view_name": "HTMLView",
            "description": "",
            "description_tooltip": null,
            "layout": "IPY_MODEL_506825e10f5640fd871435d5d3451fa0",
            "placeholder": "​",
            "style": "IPY_MODEL_25cd4f0445ca478bb416d3f77f6ab8f8",
            "value": " 0/3 [00:13&lt;?, ?it/s]"
          }
        },
        "cf02ecdc7641445582b80eb049c3a9f7": {
          "model_module": "@jupyter-widgets/base",
          "model_name": "LayoutModel",
          "model_module_version": "1.2.0",
          "state": {
            "_model_module": "@jupyter-widgets/base",
            "_model_module_version": "1.2.0",
            "_model_name": "LayoutModel",
            "_view_count": null,
            "_view_module": "@jupyter-widgets/base",
            "_view_module_version": "1.2.0",
            "_view_name": "LayoutView",
            "align_content": null,
            "align_items": null,
            "align_self": null,
            "border": null,
            "bottom": null,
            "display": null,
            "flex": null,
            "flex_flow": null,
            "grid_area": null,
            "grid_auto_columns": null,
            "grid_auto_flow": null,
            "grid_auto_rows": null,
            "grid_column": null,
            "grid_gap": null,
            "grid_row": null,
            "grid_template_areas": null,
            "grid_template_columns": null,
            "grid_template_rows": null,
            "height": null,
            "justify_content": null,
            "justify_items": null,
            "left": null,
            "margin": null,
            "max_height": null,
            "max_width": null,
            "min_height": null,
            "min_width": null,
            "object_fit": null,
            "object_position": null,
            "order": null,
            "overflow": null,
            "overflow_x": null,
            "overflow_y": null,
            "padding": null,
            "right": null,
            "top": null,
            "visibility": null,
            "width": null
          }
        },
        "79f005c1fb92447da5431a06b616aad5": {
          "model_module": "@jupyter-widgets/base",
          "model_name": "LayoutModel",
          "model_module_version": "1.2.0",
          "state": {
            "_model_module": "@jupyter-widgets/base",
            "_model_module_version": "1.2.0",
            "_model_name": "LayoutModel",
            "_view_count": null,
            "_view_module": "@jupyter-widgets/base",
            "_view_module_version": "1.2.0",
            "_view_name": "LayoutView",
            "align_content": null,
            "align_items": null,
            "align_self": null,
            "border": null,
            "bottom": null,
            "display": null,
            "flex": null,
            "flex_flow": null,
            "grid_area": null,
            "grid_auto_columns": null,
            "grid_auto_flow": null,
            "grid_auto_rows": null,
            "grid_column": null,
            "grid_gap": null,
            "grid_row": null,
            "grid_template_areas": null,
            "grid_template_columns": null,
            "grid_template_rows": null,
            "height": null,
            "justify_content": null,
            "justify_items": null,
            "left": null,
            "margin": null,
            "max_height": null,
            "max_width": null,
            "min_height": null,
            "min_width": null,
            "object_fit": null,
            "object_position": null,
            "order": null,
            "overflow": null,
            "overflow_x": null,
            "overflow_y": null,
            "padding": null,
            "right": null,
            "top": null,
            "visibility": null,
            "width": null
          }
        },
        "194b106d507c4b079def769cd4d87444": {
          "model_module": "@jupyter-widgets/controls",
          "model_name": "DescriptionStyleModel",
          "model_module_version": "1.5.0",
          "state": {
            "_model_module": "@jupyter-widgets/controls",
            "_model_module_version": "1.5.0",
            "_model_name": "DescriptionStyleModel",
            "_view_count": null,
            "_view_module": "@jupyter-widgets/base",
            "_view_module_version": "1.2.0",
            "_view_name": "StyleView",
            "description_width": ""
          }
        },
        "ed4d14abee2e43caa256ae48619442f8": {
          "model_module": "@jupyter-widgets/base",
          "model_name": "LayoutModel",
          "model_module_version": "1.2.0",
          "state": {
            "_model_module": "@jupyter-widgets/base",
            "_model_module_version": "1.2.0",
            "_model_name": "LayoutModel",
            "_view_count": null,
            "_view_module": "@jupyter-widgets/base",
            "_view_module_version": "1.2.0",
            "_view_name": "LayoutView",
            "align_content": null,
            "align_items": null,
            "align_self": null,
            "border": null,
            "bottom": null,
            "display": null,
            "flex": null,
            "flex_flow": null,
            "grid_area": null,
            "grid_auto_columns": null,
            "grid_auto_flow": null,
            "grid_auto_rows": null,
            "grid_column": null,
            "grid_gap": null,
            "grid_row": null,
            "grid_template_areas": null,
            "grid_template_columns": null,
            "grid_template_rows": null,
            "height": null,
            "justify_content": null,
            "justify_items": null,
            "left": null,
            "margin": null,
            "max_height": null,
            "max_width": null,
            "min_height": null,
            "min_width": null,
            "object_fit": null,
            "object_position": null,
            "order": null,
            "overflow": null,
            "overflow_x": null,
            "overflow_y": null,
            "padding": null,
            "right": null,
            "top": null,
            "visibility": null,
            "width": null
          }
        },
        "6d3e6485640e44a08887bb58a55280dd": {
          "model_module": "@jupyter-widgets/controls",
          "model_name": "ProgressStyleModel",
          "model_module_version": "1.5.0",
          "state": {
            "_model_module": "@jupyter-widgets/controls",
            "_model_module_version": "1.5.0",
            "_model_name": "ProgressStyleModel",
            "_view_count": null,
            "_view_module": "@jupyter-widgets/base",
            "_view_module_version": "1.2.0",
            "_view_name": "StyleView",
            "bar_color": null,
            "description_width": ""
          }
        },
        "506825e10f5640fd871435d5d3451fa0": {
          "model_module": "@jupyter-widgets/base",
          "model_name": "LayoutModel",
          "model_module_version": "1.2.0",
          "state": {
            "_model_module": "@jupyter-widgets/base",
            "_model_module_version": "1.2.0",
            "_model_name": "LayoutModel",
            "_view_count": null,
            "_view_module": "@jupyter-widgets/base",
            "_view_module_version": "1.2.0",
            "_view_name": "LayoutView",
            "align_content": null,
            "align_items": null,
            "align_self": null,
            "border": null,
            "bottom": null,
            "display": null,
            "flex": null,
            "flex_flow": null,
            "grid_area": null,
            "grid_auto_columns": null,
            "grid_auto_flow": null,
            "grid_auto_rows": null,
            "grid_column": null,
            "grid_gap": null,
            "grid_row": null,
            "grid_template_areas": null,
            "grid_template_columns": null,
            "grid_template_rows": null,
            "height": null,
            "justify_content": null,
            "justify_items": null,
            "left": null,
            "margin": null,
            "max_height": null,
            "max_width": null,
            "min_height": null,
            "min_width": null,
            "object_fit": null,
            "object_position": null,
            "order": null,
            "overflow": null,
            "overflow_x": null,
            "overflow_y": null,
            "padding": null,
            "right": null,
            "top": null,
            "visibility": null,
            "width": null
          }
        },
        "25cd4f0445ca478bb416d3f77f6ab8f8": {
          "model_module": "@jupyter-widgets/controls",
          "model_name": "DescriptionStyleModel",
          "model_module_version": "1.5.0",
          "state": {
            "_model_module": "@jupyter-widgets/controls",
            "_model_module_version": "1.5.0",
            "_model_name": "DescriptionStyleModel",
            "_view_count": null,
            "_view_module": "@jupyter-widgets/base",
            "_view_module_version": "1.2.0",
            "_view_name": "StyleView",
            "description_width": ""
          }
        },
        "69a1adbe507945009d4be5de00ff918e": {
          "model_module": "@jupyter-widgets/controls",
          "model_name": "HBoxModel",
          "model_module_version": "1.5.0",
          "state": {
            "_dom_classes": [],
            "_model_module": "@jupyter-widgets/controls",
            "_model_module_version": "1.5.0",
            "_model_name": "HBoxModel",
            "_view_count": null,
            "_view_module": "@jupyter-widgets/controls",
            "_view_module_version": "1.5.0",
            "_view_name": "HBoxView",
            "box_style": "",
            "children": [
              "IPY_MODEL_a3f5e207dfa146adb5f41346aba097ec",
              "IPY_MODEL_b86f5fd7a219447e8bcda99a8bc15739",
              "IPY_MODEL_a8576ff06c534de7896bc3c035bff665"
            ],
            "layout": "IPY_MODEL_893d3100659b41fb84f23bf3caf4c8ac"
          }
        },
        "a3f5e207dfa146adb5f41346aba097ec": {
          "model_module": "@jupyter-widgets/controls",
          "model_name": "HTMLModel",
          "model_module_version": "1.5.0",
          "state": {
            "_dom_classes": [],
            "_model_module": "@jupyter-widgets/controls",
            "_model_module_version": "1.5.0",
            "_model_name": "HTMLModel",
            "_view_count": null,
            "_view_module": "@jupyter-widgets/controls",
            "_view_module_version": "1.5.0",
            "_view_name": "HTMLView",
            "description": "",
            "description_tooltip": null,
            "layout": "IPY_MODEL_b804b5109d2a4714af9ac949f08ae1a4",
            "placeholder": "​",
            "style": "IPY_MODEL_39cfb6e2b22d4fbfbc60a175e06f5e15",
            "value": " 10%"
          }
        },
        "b86f5fd7a219447e8bcda99a8bc15739": {
          "model_module": "@jupyter-widgets/controls",
          "model_name": "FloatProgressModel",
          "model_module_version": "1.5.0",
          "state": {
            "_dom_classes": [],
            "_model_module": "@jupyter-widgets/controls",
            "_model_module_version": "1.5.0",
            "_model_name": "FloatProgressModel",
            "_view_count": null,
            "_view_module": "@jupyter-widgets/controls",
            "_view_module_version": "1.5.0",
            "_view_name": "ProgressView",
            "bar_style": "",
            "description": "",
            "description_tooltip": null,
            "layout": "IPY_MODEL_c78df8c98cb54d66a15889c6283a5b4a",
            "max": 20,
            "min": 0,
            "orientation": "horizontal",
            "style": "IPY_MODEL_7cdcef24885e4aa08fdb79b96f016adc",
            "value": 2
          }
        },
        "a8576ff06c534de7896bc3c035bff665": {
          "model_module": "@jupyter-widgets/controls",
          "model_name": "HTMLModel",
          "model_module_version": "1.5.0",
          "state": {
            "_dom_classes": [],
            "_model_module": "@jupyter-widgets/controls",
            "_model_module_version": "1.5.0",
            "_model_name": "HTMLModel",
            "_view_count": null,
            "_view_module": "@jupyter-widgets/controls",
            "_view_module_version": "1.5.0",
            "_view_name": "HTMLView",
            "description": "",
            "description_tooltip": null,
            "layout": "IPY_MODEL_7854dc4277904295923a677f6ac2a138",
            "placeholder": "​",
            "style": "IPY_MODEL_25e130ab44f84210a8075669f4719160",
            "value": " 2/20 [01:52&lt;17:19, 57.76s/it]"
          }
        },
        "893d3100659b41fb84f23bf3caf4c8ac": {
          "model_module": "@jupyter-widgets/base",
          "model_name": "LayoutModel",
          "model_module_version": "1.2.0",
          "state": {
            "_model_module": "@jupyter-widgets/base",
            "_model_module_version": "1.2.0",
            "_model_name": "LayoutModel",
            "_view_count": null,
            "_view_module": "@jupyter-widgets/base",
            "_view_module_version": "1.2.0",
            "_view_name": "LayoutView",
            "align_content": null,
            "align_items": null,
            "align_self": null,
            "border": null,
            "bottom": null,
            "display": null,
            "flex": null,
            "flex_flow": null,
            "grid_area": null,
            "grid_auto_columns": null,
            "grid_auto_flow": null,
            "grid_auto_rows": null,
            "grid_column": null,
            "grid_gap": null,
            "grid_row": null,
            "grid_template_areas": null,
            "grid_template_columns": null,
            "grid_template_rows": null,
            "height": null,
            "justify_content": null,
            "justify_items": null,
            "left": null,
            "margin": null,
            "max_height": null,
            "max_width": null,
            "min_height": null,
            "min_width": null,
            "object_fit": null,
            "object_position": null,
            "order": null,
            "overflow": null,
            "overflow_x": null,
            "overflow_y": null,
            "padding": null,
            "right": null,
            "top": null,
            "visibility": null,
            "width": null
          }
        },
        "b804b5109d2a4714af9ac949f08ae1a4": {
          "model_module": "@jupyter-widgets/base",
          "model_name": "LayoutModel",
          "model_module_version": "1.2.0",
          "state": {
            "_model_module": "@jupyter-widgets/base",
            "_model_module_version": "1.2.0",
            "_model_name": "LayoutModel",
            "_view_count": null,
            "_view_module": "@jupyter-widgets/base",
            "_view_module_version": "1.2.0",
            "_view_name": "LayoutView",
            "align_content": null,
            "align_items": null,
            "align_self": null,
            "border": null,
            "bottom": null,
            "display": null,
            "flex": null,
            "flex_flow": null,
            "grid_area": null,
            "grid_auto_columns": null,
            "grid_auto_flow": null,
            "grid_auto_rows": null,
            "grid_column": null,
            "grid_gap": null,
            "grid_row": null,
            "grid_template_areas": null,
            "grid_template_columns": null,
            "grid_template_rows": null,
            "height": null,
            "justify_content": null,
            "justify_items": null,
            "left": null,
            "margin": null,
            "max_height": null,
            "max_width": null,
            "min_height": null,
            "min_width": null,
            "object_fit": null,
            "object_position": null,
            "order": null,
            "overflow": null,
            "overflow_x": null,
            "overflow_y": null,
            "padding": null,
            "right": null,
            "top": null,
            "visibility": null,
            "width": null
          }
        },
        "39cfb6e2b22d4fbfbc60a175e06f5e15": {
          "model_module": "@jupyter-widgets/controls",
          "model_name": "DescriptionStyleModel",
          "model_module_version": "1.5.0",
          "state": {
            "_model_module": "@jupyter-widgets/controls",
            "_model_module_version": "1.5.0",
            "_model_name": "DescriptionStyleModel",
            "_view_count": null,
            "_view_module": "@jupyter-widgets/base",
            "_view_module_version": "1.2.0",
            "_view_name": "StyleView",
            "description_width": ""
          }
        },
        "c78df8c98cb54d66a15889c6283a5b4a": {
          "model_module": "@jupyter-widgets/base",
          "model_name": "LayoutModel",
          "model_module_version": "1.2.0",
          "state": {
            "_model_module": "@jupyter-widgets/base",
            "_model_module_version": "1.2.0",
            "_model_name": "LayoutModel",
            "_view_count": null,
            "_view_module": "@jupyter-widgets/base",
            "_view_module_version": "1.2.0",
            "_view_name": "LayoutView",
            "align_content": null,
            "align_items": null,
            "align_self": null,
            "border": null,
            "bottom": null,
            "display": null,
            "flex": null,
            "flex_flow": null,
            "grid_area": null,
            "grid_auto_columns": null,
            "grid_auto_flow": null,
            "grid_auto_rows": null,
            "grid_column": null,
            "grid_gap": null,
            "grid_row": null,
            "grid_template_areas": null,
            "grid_template_columns": null,
            "grid_template_rows": null,
            "height": null,
            "justify_content": null,
            "justify_items": null,
            "left": null,
            "margin": null,
            "max_height": null,
            "max_width": null,
            "min_height": null,
            "min_width": null,
            "object_fit": null,
            "object_position": null,
            "order": null,
            "overflow": null,
            "overflow_x": null,
            "overflow_y": null,
            "padding": null,
            "right": null,
            "top": null,
            "visibility": null,
            "width": null
          }
        },
        "7cdcef24885e4aa08fdb79b96f016adc": {
          "model_module": "@jupyter-widgets/controls",
          "model_name": "ProgressStyleModel",
          "model_module_version": "1.5.0",
          "state": {
            "_model_module": "@jupyter-widgets/controls",
            "_model_module_version": "1.5.0",
            "_model_name": "ProgressStyleModel",
            "_view_count": null,
            "_view_module": "@jupyter-widgets/base",
            "_view_module_version": "1.2.0",
            "_view_name": "StyleView",
            "bar_color": null,
            "description_width": ""
          }
        },
        "7854dc4277904295923a677f6ac2a138": {
          "model_module": "@jupyter-widgets/base",
          "model_name": "LayoutModel",
          "model_module_version": "1.2.0",
          "state": {
            "_model_module": "@jupyter-widgets/base",
            "_model_module_version": "1.2.0",
            "_model_name": "LayoutModel",
            "_view_count": null,
            "_view_module": "@jupyter-widgets/base",
            "_view_module_version": "1.2.0",
            "_view_name": "LayoutView",
            "align_content": null,
            "align_items": null,
            "align_self": null,
            "border": null,
            "bottom": null,
            "display": null,
            "flex": null,
            "flex_flow": null,
            "grid_area": null,
            "grid_auto_columns": null,
            "grid_auto_flow": null,
            "grid_auto_rows": null,
            "grid_column": null,
            "grid_gap": null,
            "grid_row": null,
            "grid_template_areas": null,
            "grid_template_columns": null,
            "grid_template_rows": null,
            "height": null,
            "justify_content": null,
            "justify_items": null,
            "left": null,
            "margin": null,
            "max_height": null,
            "max_width": null,
            "min_height": null,
            "min_width": null,
            "object_fit": null,
            "object_position": null,
            "order": null,
            "overflow": null,
            "overflow_x": null,
            "overflow_y": null,
            "padding": null,
            "right": null,
            "top": null,
            "visibility": null,
            "width": null
          }
        },
        "25e130ab44f84210a8075669f4719160": {
          "model_module": "@jupyter-widgets/controls",
          "model_name": "DescriptionStyleModel",
          "model_module_version": "1.5.0",
          "state": {
            "_model_module": "@jupyter-widgets/controls",
            "_model_module_version": "1.5.0",
            "_model_name": "DescriptionStyleModel",
            "_view_count": null,
            "_view_module": "@jupyter-widgets/base",
            "_view_module_version": "1.2.0",
            "_view_name": "StyleView",
            "description_width": ""
          }
        }
      }
    },
    "accelerator": "GPU"
  },
  "cells": [
    {
      "cell_type": "code",
      "execution_count": null,
      "metadata": {
        "id": "4WTb81H906U3"
      },
      "outputs": [],
      "source": [
        "from torchvision import datasets\n",
        "from torchvision.transforms import ToTensor\n",
        "import matplotlib.pyplot as plt\n",
        "import random\n",
        "from torch.utils.data import DataLoader\n",
        "from torch import nn\n",
        "import torch"
      ]
    },
    {
      "cell_type": "code",
      "source": [
        "train_data = datasets.FashionMNIST(\n",
        "  root=\"image\",\n",
        "  train=True,\n",
        "  download=True,\n",
        "  transform=ToTensor()\n",
        ")\n",
        "\n",
        "test_data = datasets.FashionMNIST(\n",
        "  root=\"image\",\n",
        "  train=False,\n",
        "  download=True,\n",
        "  transform=ToTensor()\n",
        ")"
      ],
      "metadata": {
        "id": "pqDlxTB01J9O"
      },
      "execution_count": null,
      "outputs": []
    },
    {
      "cell_type": "code",
      "source": [
        "img, label = train_data[0]\n",
        "img.shape,label"
      ],
      "metadata": {
        "colab": {
          "base_uri": "https://localhost:8080/"
        },
        "id": "A9a8zFD9zNab",
        "outputId": "d99e71b1-86eb-4fef-eecc-d86a0cb20ebb"
      },
      "execution_count": null,
      "outputs": [
        {
          "output_type": "execute_result",
          "data": {
            "text/plain": [
              "(torch.Size([1, 28, 28]), 9)"
            ]
          },
          "metadata": {},
          "execution_count": 8
        }
      ]
    },
    {
      "cell_type": "code",
      "source": [
        "img, label = train_data[0]\n",
        "class_names = train_data.classes\n",
        "class_names[label]\n",
        "img.shape\n",
        "img.permute(1, 2, 0).shape"
      ],
      "metadata": {
        "colab": {
          "base_uri": "https://localhost:8080/"
        },
        "id": "Ww0gvGf51WLk",
        "outputId": "11a383ee-55d4-489c-f3fb-725dcd9166c7"
      },
      "execution_count": null,
      "outputs": [
        {
          "output_type": "execute_result",
          "data": {
            "text/plain": [
              "torch.Size([28, 28, 1])"
            ]
          },
          "metadata": {},
          "execution_count": 203
        }
      ]
    },
    {
      "cell_type": "code",
      "source": [
        "random_idx = random.randint(0, len(train_data)-1)\n",
        "img, label = train_data[random_idx]\n",
        "plt.imshow(img.permute(1, 2, 0))\n",
        "plt.title(class_names[label])"
      ],
      "metadata": {
        "colab": {
          "base_uri": "https://localhost:8080/",
          "height": 469
        },
        "id": "c6outMMA1cZO",
        "outputId": "e8dac633-94ed-46cd-806e-9065cf4eb313"
      },
      "execution_count": null,
      "outputs": [
        {
          "output_type": "execute_result",
          "data": {
            "text/plain": [
              "Text(0.5, 1.0, 'Sneaker')"
            ]
          },
          "metadata": {},
          "execution_count": 204
        },
        {
          "output_type": "display_data",
          "data": {
            "text/plain": [
              "<Figure size 640x480 with 1 Axes>"
            ],
            "image/png": "[encoded data removed]"
          },
          "metadata": {}
        }
      ]
    },
    {
      "cell_type": "code",
      "source": [
        "\n",
        "BATCH_SIZE = 32\n",
        "\n",
        "train_dataloader = DataLoader(\n",
        "    train_data,\n",
        "    batch_size=BATCH_SIZE,\n",
        "    shuffle = True\n",
        ")\n",
        "\n",
        "test_dataloader = DataLoader(\n",
        "    test_data,\n",
        "    batch_size=BATCH_SIZE,\n",
        "    shuffle = False\n",
        ")\n",
        "\n",
        "len(train_dataloader), len(test_dataloader)"
      ],
      "metadata": {
        "colab": {
          "base_uri": "https://localhost:8080/"
        },
        "id": "ve2k7K7f3hqS",
        "outputId": "0131bcd2-54b7-4af4-c9df-c15eb40348ca"
      },
      "execution_count": null,
      "outputs": [
        {
          "output_type": "execute_result",
          "data": {
            "text/plain": [
              "(1875, 313)"
            ]
          },
          "metadata": {},
          "execution_count": 6
        }
      ]
    },
    {
      "cell_type": "code",
      "source": [
        "x_first_batch, y_first_batch = next(iter(train_dataloader))\n",
        "x_first_batch.shape"
      ],
      "metadata": {
        "colab": {
          "base_uri": "https://localhost:8080/"
        },
        "id": "I63YkFk_5TVK",
        "outputId": "959cd066-f559-4729-9061-27d85fe9ee21"
      },
      "execution_count": null,
      "outputs": [
        {
          "output_type": "execute_result",
          "data": {
            "text/plain": [
              "torch.Size([32, 1, 28, 28])"
            ]
          },
          "metadata": {},
          "execution_count": 12
        }
      ]
    },
    {
      "cell_type": "code",
      "source": [
        "x_first_batch[0],y_first_batch[0]"
      ],
      "metadata": {
        "id": "cSUxFv5u6pw_",
        "colab": {
          "base_uri": "https://localhost:8080/"
        },
        "outputId": "26d3592d-86d5-4af0-e8d3-6ee61d3bde23"
      },
      "execution_count": null,
      "outputs": [
        {
          "output_type": "execute_result",
          "data": {
            "text/plain": [
              "(tensor([[[0.0000, 0.0000, 0.0000, 0.0000, 0.0000, 0.0000, 0.0000, 0.0000,\n",
              "           0.0000, 0.0000, 0.0000, 0.0000, 0.0000, 0.0000, 0.0000, 0.0000,\n",
              "           0.0000, 0.0000, 0.0000, 0.0000, 0.0000, 0.0000, 0.0000, 0.0000,\n",
              "           0.0000, 0.0000, 0.0000, 0.0000],\n",
              "          [0.0000, 0.0000, 0.0000, 0.0000, 0.0000, 0.0000, 0.0000, 0.0000,\n",
              "           0.0000, 0.0000, 0.0000, 0.0000, 0.0000, 0.0000, 0.0000, 0.0000,\n",
              "           0.0000, 0.0000, 0.0000, 0.0000, 0.0000, 0.0000, 0.0000, 0.0000,\n",
              "           0.0000, 0.0000, 0.0000, 0.0000],\n",
              "          [0.0000, 0.0000, 0.0000, 0.0000, 0.0000, 0.0000, 0.0000, 0.0000,\n",
              "           0.0000, 0.0000, 0.0000, 0.0000, 0.0000, 0.0000, 0.0000, 0.0000,\n",
              "           0.0000, 0.0000, 0.0000, 0.0000, 0.0000, 0.0000, 0.0000, 0.0000,\n",
              "           0.0000, 0.0000, 0.0000, 0.0000],\n",
              "          [0.0000, 0.0000, 0.0000, 0.0000, 0.0000, 0.0000, 0.0000, 0.0000,\n",
              "           0.0000, 0.0000, 0.0000, 0.0000, 0.0000, 0.0000, 0.0000, 0.0000,\n",
              "           0.0000, 0.0000, 0.0000, 0.0000, 0.0000, 0.0000, 0.0000, 0.0000,\n",
              "           0.0000, 0.0000, 0.0000, 0.0000],\n",
              "          [0.0000, 0.0000, 0.0000, 0.0000, 0.0000, 0.0000, 0.0000, 0.0000,\n",
              "           0.0000, 0.0039, 0.0118, 0.0000, 0.0000, 0.4157, 0.4784, 0.4863,\n",
              "           0.4902, 0.5686, 0.6039, 0.5490, 0.4980, 0.4863, 0.5098, 0.5843,\n",
              "           0.1686, 0.0000, 0.0000, 0.0039],\n",
              "          [0.0000, 0.0000, 0.0000, 0.0000, 0.0000, 0.0000, 0.0000, 0.0000,\n",
              "           0.0039, 0.0039, 0.0000, 0.0000, 0.0000, 0.4431, 0.5922, 0.5922,\n",
              "           0.5804, 0.6275, 0.7059, 0.7059, 0.6235, 0.6745, 0.4980, 0.5529,\n",
              "           0.4784, 0.0000, 0.0118, 0.0039],\n",
              "          [0.0000, 0.0000, 0.0000, 0.0000, 0.0000, 0.0000, 0.0000, 0.0000,\n",
              "           0.0000, 0.0000, 0.0039, 0.0039, 0.0000, 0.0000, 0.0000, 0.0000,\n",
              "           0.0000, 0.0000, 0.0000, 0.0000, 0.0000, 0.0000, 0.0000, 0.5176,\n",
              "           0.6784, 0.0039, 0.0000, 0.0039],\n",
              "          [0.0000, 0.0000, 0.0000, 0.0000, 0.0000, 0.0000, 0.0000, 0.0000,\n",
              "           0.0000, 0.0039, 0.0039, 0.0000, 0.0353, 0.3176, 0.0000, 0.0000,\n",
              "           0.0000, 0.0118, 0.0039, 0.0039, 0.0118, 0.0000, 0.6549, 0.8118,\n",
              "           0.4431, 0.2980, 0.0000, 0.0000],\n",
              "          [0.0000, 0.0000, 0.0000, 0.0000, 0.0000, 0.0000, 0.0000, 0.0000,\n",
              "           0.0000, 0.0000, 0.0039, 0.0000, 0.0000, 0.5490, 0.4745, 0.0000,\n",
              "           0.0000, 0.0000, 0.0118, 0.0039, 0.0000, 0.4588, 0.8353, 0.5059,\n",
              "           0.0000, 0.3216, 0.2157, 0.0000],\n",
              "          [0.0000, 0.0000, 0.0000, 0.0000, 0.0000, 0.0000, 0.0000, 0.0000,\n",
              "           0.0000, 0.0039, 0.0039, 0.0039, 0.0000, 0.0039, 0.5804, 0.4745,\n",
              "           0.0000, 0.0118, 0.0039, 0.0000, 0.0784, 0.7725, 0.7216, 0.0000,\n",
              "           0.0000, 0.1608, 0.6667, 0.0000],\n",
              "          [0.0000, 0.0000, 0.0000, 0.0000, 0.0000, 0.0000, 0.0000, 0.0000,\n",
              "           0.0039, 0.0039, 0.0039, 0.0000, 0.0039, 0.0000, 0.0000, 0.6118,\n",
              "           0.4980, 0.0000, 0.0000, 0.0000, 0.4157, 0.8471, 0.6157, 0.0000,\n",
              "           0.0000, 0.6275, 0.6667, 0.0667],\n",
              "          [0.0000, 0.0000, 0.0000, 0.0000, 0.0000, 0.0000, 0.0000, 0.0000,\n",
              "           0.0039, 0.0000, 0.0118, 0.0039, 0.0000, 0.0157, 0.0000, 0.0000,\n",
              "           0.6863, 0.5725, 0.0000, 0.0000, 0.7059, 0.8275, 0.5373, 0.1843,\n",
              "           0.7922, 0.7373, 0.6902, 0.2549],\n",
              "          [0.0000, 0.0039, 0.0000, 0.0039, 0.0039, 0.0000, 0.0000, 0.0000,\n",
              "           0.0000, 0.0000, 0.0000, 0.0118, 0.0000, 0.0118, 0.0235, 0.0000,\n",
              "           0.0000, 1.0000, 0.3686, 0.0000, 0.7608, 0.7412, 0.7490, 0.9216,\n",
              "           0.7412, 0.6588, 0.6667, 0.0000],\n",
              "          [0.0000, 0.0000, 0.0000, 0.0000, 0.0000, 0.0039, 0.0118, 0.0000,\n",
              "           0.0000, 0.0000, 0.0039, 0.0039, 0.0000, 0.0039, 0.0000, 0.0000,\n",
              "           0.0000, 0.1412, 0.9608, 0.2000, 0.7412, 0.7725, 0.7098, 0.6118,\n",
              "           0.4000, 0.4235, 0.2471, 0.0000],\n",
              "          [0.0000, 0.0000, 0.0000, 0.0000, 0.0039, 0.0039, 0.0000, 0.0000,\n",
              "           0.0039, 0.0039, 0.0157, 0.0118, 0.0000, 0.0039, 0.0000, 0.0000,\n",
              "           0.0000, 0.0000, 0.5176, 0.8275, 0.6157, 0.5373, 0.4588, 0.5686,\n",
              "           0.5059, 0.8275, 0.2863, 0.0000],\n",
              "          [0.0000, 0.0000, 0.0000, 0.0000, 0.0000, 0.0000, 0.0275, 0.0000,\n",
              "           0.0000, 0.0000, 0.0000, 0.0000, 0.0000, 0.0000, 0.0039, 0.0000,\n",
              "           0.0000, 0.3412, 0.5608, 0.5176, 0.2588, 0.4235, 0.5922, 0.7608,\n",
              "           0.7176, 0.8471, 0.0745, 0.0000],\n",
              "          [0.0000, 0.0039, 0.0039, 0.0000, 0.1098, 0.3216, 0.3098, 0.1373,\n",
              "           0.0000, 0.0118, 0.0039, 0.0000, 0.0000, 0.0118, 0.0000, 0.0039,\n",
              "           0.5216, 0.7216, 0.4000, 0.5098, 0.6431, 0.7686, 0.7294, 0.6902,\n",
              "           0.7098, 0.6784, 0.0000, 0.0039],\n",
              "          [0.0039, 0.0039, 0.0118, 0.0000, 0.1804, 0.4588, 0.1843, 0.1490,\n",
              "           0.0235, 0.0000, 0.0039, 0.0039, 0.0118, 0.0000, 0.0118, 0.5373,\n",
              "           0.5725, 0.2588, 0.5490, 0.7843, 0.7294, 0.7059, 0.6745, 0.6745,\n",
              "           0.7294, 0.5490, 0.0000, 0.0000],\n",
              "          [0.0000, 0.0000, 0.0000, 0.0000, 0.0000, 0.3216, 0.3804, 0.4000,\n",
              "           0.0980, 0.0000, 0.0118, 0.0039, 0.0000, 0.1608, 0.6745, 0.4863,\n",
              "           0.3412, 0.5608, 0.7608, 0.7098, 0.6549, 0.6863, 0.7098, 0.6784,\n",
              "           0.7176, 0.3725, 0.0000, 0.0000],\n",
              "          [0.0784, 0.1490, 0.0863, 0.0745, 0.0784, 0.3843, 0.6118, 0.5216,\n",
              "           0.3216, 0.0000, 0.0000, 0.0000, 0.1490, 0.4902, 0.6863, 0.4000,\n",
              "           0.6980, 0.7608, 0.6980, 0.6902, 0.6902, 0.6863, 0.6980, 0.6863,\n",
              "           0.7176, 0.1804, 0.0000, 0.0000],\n",
              "          [0.4118, 0.6235, 0.4431, 0.3490, 0.4431, 0.4471, 0.6745, 0.5804,\n",
              "           0.2745, 0.4431, 0.3843, 0.3412, 0.6784, 0.4275, 0.3725, 0.6235,\n",
              "           0.7725, 0.6745, 0.6863, 0.6863, 0.6667, 0.7216, 0.6863, 0.6784,\n",
              "           0.8039, 0.0549, 0.0000, 0.0039],\n",
              "          [0.1412, 0.3412, 0.3922, 0.5098, 0.5373, 0.4588, 0.5804, 0.6980,\n",
              "           0.4902, 0.5608, 0.6902, 0.6000, 0.5059, 0.2863, 0.5412, 0.7490,\n",
              "           0.6980, 0.7176, 0.7059, 0.6784, 0.6980, 0.7294, 0.7176, 0.7059,\n",
              "           0.7725, 0.0000, 0.0000, 0.0039],\n",
              "          [0.1059, 0.4118, 0.3294, 0.5294, 0.4157, 0.4667, 0.4275, 0.4353,\n",
              "           0.5804, 0.5059, 0.4235, 0.4471, 0.4431, 0.4902, 0.7098, 0.6667,\n",
              "           0.6863, 0.6902, 0.7098, 0.7216, 0.6980, 0.6588, 0.6745, 0.7059,\n",
              "           0.6471, 0.0000, 0.0000, 0.0000],\n",
              "          [0.0000, 0.0863, 0.3216, 0.4745, 0.5686, 0.6549, 0.6549, 0.6275,\n",
              "           0.4863, 0.5490, 0.6431, 0.5176, 0.5922, 0.8667, 0.8863, 0.8235,\n",
              "           0.8275, 0.8275, 0.8431, 0.8235, 0.8431, 0.8980, 0.7529, 0.8118,\n",
              "           0.6863, 0.0000, 0.0000, 0.0000],\n",
              "          [0.0000, 0.0000, 0.0000, 0.0000, 0.0902, 0.1490, 0.2863, 0.4235,\n",
              "           0.4118, 0.4353, 0.4745, 0.4000, 0.4039, 0.2980, 0.1804, 0.1373,\n",
              "           0.0431, 0.0039, 0.0000, 0.0039, 0.2353, 0.5294, 0.4275, 0.4471,\n",
              "           0.3098, 0.0000, 0.0039, 0.0000],\n",
              "          [0.0000, 0.0000, 0.0000, 0.0000, 0.0000, 0.0000, 0.0000, 0.0000,\n",
              "           0.0000, 0.0000, 0.0000, 0.0000, 0.0000, 0.0000, 0.0000, 0.0000,\n",
              "           0.0000, 0.0000, 0.0000, 0.0000, 0.0000, 0.0000, 0.0000, 0.0000,\n",
              "           0.0000, 0.0000, 0.0000, 0.0000],\n",
              "          [0.0000, 0.0000, 0.0000, 0.0000, 0.0000, 0.0000, 0.0000, 0.0000,\n",
              "           0.0000, 0.0000, 0.0000, 0.0000, 0.0000, 0.0000, 0.0000, 0.0000,\n",
              "           0.0000, 0.0000, 0.0000, 0.0000, 0.0000, 0.0000, 0.0000, 0.0000,\n",
              "           0.0000, 0.0000, 0.0000, 0.0000],\n",
              "          [0.0000, 0.0000, 0.0000, 0.0000, 0.0000, 0.0000, 0.0000, 0.0000,\n",
              "           0.0000, 0.0000, 0.0000, 0.0000, 0.0000, 0.0000, 0.0000, 0.0000,\n",
              "           0.0000, 0.0000, 0.0000, 0.0000, 0.0000, 0.0000, 0.0000, 0.0000,\n",
              "           0.0000, 0.0000, 0.0000, 0.0000]]]),\n",
              " tensor(5))"
            ]
          },
          "metadata": {},
          "execution_count": 207
        }
      ]
    },
    {
      "cell_type": "code",
      "source": [
        "random_idx = random.randint(0, len(x_first_batch)-1)\n",
        "img, label = x_first_batch[random_idx], y_first_batch[random_idx]\n",
        "\n",
        "plt.imshow(img.permute(1, 2, 0))\n",
        "plt.title(class_names[label])"
      ],
      "metadata": {
        "colab": {
          "base_uri": "https://localhost:8080/",
          "height": 469
        },
        "id": "B6grmAfJ7Jwb",
        "outputId": "dfa14ce4-bf1b-400a-bdb4-211cd7ac592b"
      },
      "execution_count": null,
      "outputs": [
        {
          "output_type": "execute_result",
          "data": {
            "text/plain": [
              "Text(0.5, 1.0, 'Dress')"
            ]
          },
          "metadata": {},
          "execution_count": 208
        },
        {
          "output_type": "display_data",
          "data": {
            "text/plain": [
              "<Figure size 640x480 with 1 Axes>"
            ],
            "image/png": "[encoded data removed]"
          },
          "metadata": {}
        }
      ]
    },
    {
      "cell_type": "code",
      "source": [
        "x_first_batch[0].shape"
      ],
      "metadata": {
        "colab": {
          "base_uri": "https://localhost:8080/"
        },
        "id": "b6_FCX179lFZ",
        "outputId": "8338fd9e-df12-4005-96ff-b6d8de112f50"
      },
      "execution_count": null,
      "outputs": [
        {
          "output_type": "execute_result",
          "data": {
            "text/plain": [
              "torch.Size([1, 28, 28])"
            ]
          },
          "metadata": {},
          "execution_count": 209
        }
      ]
    },
    {
      "cell_type": "code",
      "source": [
        "f = nn.Flatten(start_dim=0, end_dim=-1)\n",
        "f(x_first_batch[0])"
      ],
      "metadata": {
        "id": "kE1Jcws09zsL",
        "colab": {
          "base_uri": "https://localhost:8080/"
        },
        "outputId": "585a2360-60cd-48e7-fbfa-ad2e6f4ec56e"
      },
      "execution_count": null,
      "outputs": [
        {
          "output_type": "execute_result",
          "data": {
            "text/plain": [
              "tensor([0.0000, 0.0000, 0.0000, 0.0000, 0.0000, 0.0000, 0.0000, 0.0000, 0.0000,\n",
              "        0.0000, 0.0000, 0.0000, 0.0000, 0.0000, 0.0000, 0.0000, 0.0000, 0.0000,\n",
              "        0.0000, 0.0000, 0.0000, 0.0000, 0.0000, 0.0000, 0.0000, 0.0000, 0.0000,\n",
              "        0.0000, 0.0000, 0.0000, 0.0000, 0.0000, 0.0000, 0.0000, 0.0000, 0.0000,\n",
              "        0.0000, 0.0000, 0.0000, 0.0000, 0.0000, 0.0000, 0.0000, 0.0000, 0.0000,\n",
              "        0.0000, 0.0000, 0.0000, 0.0000, 0.0000, 0.0000, 0.0000, 0.0000, 0.0000,\n",
              "        0.0000, 0.0000, 0.0000, 0.0000, 0.0000, 0.0000, 0.0000, 0.0000, 0.0000,\n",
              "        0.0000, 0.0000, 0.0000, 0.0000, 0.0000, 0.0000, 0.0000, 0.0000, 0.0000,\n",
              "        0.0000, 0.0000, 0.0000, 0.0000, 0.0000, 0.0000, 0.0000, 0.0000, 0.0000,\n",
              "        0.0000, 0.0000, 0.0000, 0.0000, 0.0000, 0.0000, 0.0000, 0.0000, 0.0000,\n",
              "        0.0000, 0.0000, 0.0000, 0.0000, 0.0000, 0.0000, 0.0000, 0.0000, 0.0000,\n",
              "        0.0000, 0.0000, 0.0000, 0.0000, 0.0000, 0.0000, 0.0000, 0.0000, 0.0000,\n",
              "        0.0000, 0.0000, 0.0000, 0.0000, 0.0000, 0.0000, 0.0000, 0.0000, 0.0000,\n",
              "        0.0000, 0.0000, 0.0000, 0.0000, 0.0039, 0.0118, 0.0000, 0.0000, 0.4157,\n",
              "        0.4784, 0.4863, 0.4902, 0.5686, 0.6039, 0.5490, 0.4980, 0.4863, 0.5098,\n",
              "        0.5843, 0.1686, 0.0000, 0.0000, 0.0039, 0.0000, 0.0000, 0.0000, 0.0000,\n",
              "        0.0000, 0.0000, 0.0000, 0.0000, 0.0039, 0.0039, 0.0000, 0.0000, 0.0000,\n",
              "        0.4431, 0.5922, 0.5922, 0.5804, 0.6275, 0.7059, 0.7059, 0.6235, 0.6745,\n",
              "        0.4980, 0.5529, 0.4784, 0.0000, 0.0118, 0.0039, 0.0000, 0.0000, 0.0000,\n",
              "        0.0000, 0.0000, 0.0000, 0.0000, 0.0000, 0.0000, 0.0000, 0.0039, 0.0039,\n",
              "        0.0000, 0.0000, 0.0000, 0.0000, 0.0000, 0.0000, 0.0000, 0.0000, 0.0000,\n",
              "        0.0000, 0.0000, 0.5176, 0.6784, 0.0039, 0.0000, 0.0039, 0.0000, 0.0000,\n",
              "        0.0000, 0.0000, 0.0000, 0.0000, 0.0000, 0.0000, 0.0000, 0.0039, 0.0039,\n",
              "        0.0000, 0.0353, 0.3176, 0.0000, 0.0000, 0.0000, 0.0118, 0.0039, 0.0039,\n",
              "        0.0118, 0.0000, 0.6549, 0.8118, 0.4431, 0.2980, 0.0000, 0.0000, 0.0000,\n",
              "        0.0000, 0.0000, 0.0000, 0.0000, 0.0000, 0.0000, 0.0000, 0.0000, 0.0000,\n",
              "        0.0039, 0.0000, 0.0000, 0.5490, 0.4745, 0.0000, 0.0000, 0.0000, 0.0118,\n",
              "        0.0039, 0.0000, 0.4588, 0.8353, 0.5059, 0.0000, 0.3216, 0.2157, 0.0000,\n",
              "        0.0000, 0.0000, 0.0000, 0.0000, 0.0000, 0.0000, 0.0000, 0.0000, 0.0000,\n",
              "        0.0039, 0.0039, 0.0039, 0.0000, 0.0039, 0.5804, 0.4745, 0.0000, 0.0118,\n",
              "        0.0039, 0.0000, 0.0784, 0.7725, 0.7216, 0.0000, 0.0000, 0.1608, 0.6667,\n",
              "        0.0000, 0.0000, 0.0000, 0.0000, 0.0000, 0.0000, 0.0000, 0.0000, 0.0000,\n",
              "        0.0039, 0.0039, 0.0039, 0.0000, 0.0039, 0.0000, 0.0000, 0.6118, 0.4980,\n",
              "        0.0000, 0.0000, 0.0000, 0.4157, 0.8471, 0.6157, 0.0000, 0.0000, 0.6275,\n",
              "        0.6667, 0.0667, 0.0000, 0.0000, 0.0000, 0.0000, 0.0000, 0.0000, 0.0000,\n",
              "        0.0000, 0.0039, 0.0000, 0.0118, 0.0039, 0.0000, 0.0157, 0.0000, 0.0000,\n",
              "        0.6863, 0.5725, 0.0000, 0.0000, 0.7059, 0.8275, 0.5373, 0.1843, 0.7922,\n",
              "        0.7373, 0.6902, 0.2549, 0.0000, 0.0039, 0.0000, 0.0039, 0.0039, 0.0000,\n",
              "        0.0000, 0.0000, 0.0000, 0.0000, 0.0000, 0.0118, 0.0000, 0.0118, 0.0235,\n",
              "        0.0000, 0.0000, 1.0000, 0.3686, 0.0000, 0.7608, 0.7412, 0.7490, 0.9216,\n",
              "        0.7412, 0.6588, 0.6667, 0.0000, 0.0000, 0.0000, 0.0000, 0.0000, 0.0000,\n",
              "        0.0039, 0.0118, 0.0000, 0.0000, 0.0000, 0.0039, 0.0039, 0.0000, 0.0039,\n",
              "        0.0000, 0.0000, 0.0000, 0.1412, 0.9608, 0.2000, 0.7412, 0.7725, 0.7098,\n",
              "        0.6118, 0.4000, 0.4235, 0.2471, 0.0000, 0.0000, 0.0000, 0.0000, 0.0000,\n",
              "        0.0039, 0.0039, 0.0000, 0.0000, 0.0039, 0.0039, 0.0157, 0.0118, 0.0000,\n",
              "        0.0039, 0.0000, 0.0000, 0.0000, 0.0000, 0.5176, 0.8275, 0.6157, 0.5373,\n",
              "        0.4588, 0.5686, 0.5059, 0.8275, 0.2863, 0.0000, 0.0000, 0.0000, 0.0000,\n",
              "        0.0000, 0.0000, 0.0000, 0.0275, 0.0000, 0.0000, 0.0000, 0.0000, 0.0000,\n",
              "        0.0000, 0.0000, 0.0039, 0.0000, 0.0000, 0.3412, 0.5608, 0.5176, 0.2588,\n",
              "        0.4235, 0.5922, 0.7608, 0.7176, 0.8471, 0.0745, 0.0000, 0.0000, 0.0039,\n",
              "        0.0039, 0.0000, 0.1098, 0.3216, 0.3098, 0.1373, 0.0000, 0.0118, 0.0039,\n",
              "        0.0000, 0.0000, 0.0118, 0.0000, 0.0039, 0.5216, 0.7216, 0.4000, 0.5098,\n",
              "        0.6431, 0.7686, 0.7294, 0.6902, 0.7098, 0.6784, 0.0000, 0.0039, 0.0039,\n",
              "        0.0039, 0.0118, 0.0000, 0.1804, 0.4588, 0.1843, 0.1490, 0.0235, 0.0000,\n",
              "        0.0039, 0.0039, 0.0118, 0.0000, 0.0118, 0.5373, 0.5725, 0.2588, 0.5490,\n",
              "        0.7843, 0.7294, 0.7059, 0.6745, 0.6745, 0.7294, 0.5490, 0.0000, 0.0000,\n",
              "        0.0000, 0.0000, 0.0000, 0.0000, 0.0000, 0.3216, 0.3804, 0.4000, 0.0980,\n",
              "        0.0000, 0.0118, 0.0039, 0.0000, 0.1608, 0.6745, 0.4863, 0.3412, 0.5608,\n",
              "        0.7608, 0.7098, 0.6549, 0.6863, 0.7098, 0.6784, 0.7176, 0.3725, 0.0000,\n",
              "        0.0000, 0.0784, 0.1490, 0.0863, 0.0745, 0.0784, 0.3843, 0.6118, 0.5216,\n",
              "        0.3216, 0.0000, 0.0000, 0.0000, 0.1490, 0.4902, 0.6863, 0.4000, 0.6980,\n",
              "        0.7608, 0.6980, 0.6902, 0.6902, 0.6863, 0.6980, 0.6863, 0.7176, 0.1804,\n",
              "        0.0000, 0.0000, 0.4118, 0.6235, 0.4431, 0.3490, 0.4431, 0.4471, 0.6745,\n",
              "        0.5804, 0.2745, 0.4431, 0.3843, 0.3412, 0.6784, 0.4275, 0.3725, 0.6235,\n",
              "        0.7725, 0.6745, 0.6863, 0.6863, 0.6667, 0.7216, 0.6863, 0.6784, 0.8039,\n",
              "        0.0549, 0.0000, 0.0039, 0.1412, 0.3412, 0.3922, 0.5098, 0.5373, 0.4588,\n",
              "        0.5804, 0.6980, 0.4902, 0.5608, 0.6902, 0.6000, 0.5059, 0.2863, 0.5412,\n",
              "        0.7490, 0.6980, 0.7176, 0.7059, 0.6784, 0.6980, 0.7294, 0.7176, 0.7059,\n",
              "        0.7725, 0.0000, 0.0000, 0.0039, 0.1059, 0.4118, 0.3294, 0.5294, 0.4157,\n",
              "        0.4667, 0.4275, 0.4353, 0.5804, 0.5059, 0.4235, 0.4471, 0.4431, 0.4902,\n",
              "        0.7098, 0.6667, 0.6863, 0.6902, 0.7098, 0.7216, 0.6980, 0.6588, 0.6745,\n",
              "        0.7059, 0.6471, 0.0000, 0.0000, 0.0000, 0.0000, 0.0863, 0.3216, 0.4745,\n",
              "        0.5686, 0.6549, 0.6549, 0.6275, 0.4863, 0.5490, 0.6431, 0.5176, 0.5922,\n",
              "        0.8667, 0.8863, 0.8235, 0.8275, 0.8275, 0.8431, 0.8235, 0.8431, 0.8980,\n",
              "        0.7529, 0.8118, 0.6863, 0.0000, 0.0000, 0.0000, 0.0000, 0.0000, 0.0000,\n",
              "        0.0000, 0.0902, 0.1490, 0.2863, 0.4235, 0.4118, 0.4353, 0.4745, 0.4000,\n",
              "        0.4039, 0.2980, 0.1804, 0.1373, 0.0431, 0.0039, 0.0000, 0.0039, 0.2353,\n",
              "        0.5294, 0.4275, 0.4471, 0.3098, 0.0000, 0.0039, 0.0000, 0.0000, 0.0000,\n",
              "        0.0000, 0.0000, 0.0000, 0.0000, 0.0000, 0.0000, 0.0000, 0.0000, 0.0000,\n",
              "        0.0000, 0.0000, 0.0000, 0.0000, 0.0000, 0.0000, 0.0000, 0.0000, 0.0000,\n",
              "        0.0000, 0.0000, 0.0000, 0.0000, 0.0000, 0.0000, 0.0000, 0.0000, 0.0000,\n",
              "        0.0000, 0.0000, 0.0000, 0.0000, 0.0000, 0.0000, 0.0000, 0.0000, 0.0000,\n",
              "        0.0000, 0.0000, 0.0000, 0.0000, 0.0000, 0.0000, 0.0000, 0.0000, 0.0000,\n",
              "        0.0000, 0.0000, 0.0000, 0.0000, 0.0000, 0.0000, 0.0000, 0.0000, 0.0000,\n",
              "        0.0000, 0.0000, 0.0000, 0.0000, 0.0000, 0.0000, 0.0000, 0.0000, 0.0000,\n",
              "        0.0000, 0.0000, 0.0000, 0.0000, 0.0000, 0.0000, 0.0000, 0.0000, 0.0000,\n",
              "        0.0000, 0.0000, 0.0000, 0.0000, 0.0000, 0.0000, 0.0000, 0.0000, 0.0000,\n",
              "        0.0000])"
            ]
          },
          "metadata": {},
          "execution_count": 210
        }
      ]
    },
    {
      "cell_type": "code",
      "source": [
        "class ImageClassificationModel(nn.Module):\n",
        "  def __init__(self,input_shape, output_shape):\n",
        "    super().__init__()\n",
        "    self.layer_stack= nn.Sequential(\n",
        "      nn.Flatten(start_dim=1, end_dim=-1),\n",
        "      nn.Dropout(p=0.3),\n",
        "      nn.Linear(in_features=input_shape, out_features=100),\n",
        "      nn.ReLU(),\n",
        "      nn.Linear(in_features=100, out_features=output_shape)\n",
        "      #nn.Softmax(dim=1),因為lossfunction中也有執行softmax故刪除\n",
        "    )\n",
        "\n",
        "  def forward(self, x):\n",
        "    return self.layer_stack(x)"
      ],
      "metadata": {
        "id": "D9evEIUnJO8o"
      },
      "execution_count": null,
      "outputs": []
    },
    {
      "cell_type": "code",
      "source": [
        "x_first_batch, y_first_batch = next(iter(train_dataloader))\n",
        "x_first_batch.shape,y_first_batch.shape"
      ],
      "metadata": {
        "colab": {
          "base_uri": "https://localhost:8080/"
        },
        "id": "pWbP5eZ5OpEx",
        "outputId": "383726d3-8734-43e3-caff-cba6a2851b1c"
      },
      "execution_count": null,
      "outputs": [
        {
          "output_type": "execute_result",
          "data": {
            "text/plain": [
              "(torch.Size([32, 1, 28, 28]), torch.Size([32]))"
            ]
          },
          "metadata": {},
          "execution_count": 212
        }
      ]
    },
    {
      "cell_type": "code",
      "source": [
        "torch.manual_seed(87)\n",
        "model = ImageClassificationModel(28*28,10)\n",
        "y_pred = model(x_first_batch)\n",
        "y_pred"
      ],
      "metadata": {
        "colab": {
          "base_uri": "https://localhost:8080/"
        },
        "id": "8brDhnpgKDNd",
        "outputId": "24ef7333-cc89-4ddb-dd65-9b62f2031477"
      },
      "execution_count": null,
      "outputs": [
        {
          "output_type": "execute_result",
          "data": {
            "text/plain": [
              "tensor([[ 5.7287e-02, -4.5194e-02, -1.1577e-01, -6.4710e-02,  1.0670e-01,\n",
              "          8.7304e-02, -1.0429e-02,  1.4263e-01, -1.4671e-01,  2.2686e-02],\n",
              "        [ 1.6757e-01, -8.3828e-02, -1.2149e-01,  3.7689e-02,  2.0392e-01,\n",
              "          2.1348e-03, -6.5990e-02, -6.9586e-02,  3.9107e-02,  1.1211e-01],\n",
              "        [ 3.8616e-02,  6.0829e-02,  1.4103e-01,  3.5314e-02,  6.4061e-02,\n",
              "          2.5805e-02,  8.8655e-03, -1.0807e-01, -3.8165e-04,  1.1528e-01],\n",
              "        [ 2.3585e-02,  1.2730e-01,  7.5834e-02,  1.1981e-01, -6.8269e-02,\n",
              "          3.1624e-02,  1.6112e-03, -1.7374e-01,  8.4889e-02,  1.0407e-02],\n",
              "        [ 7.3125e-02, -2.3997e-02,  1.2441e-01,  1.4360e-01, -2.8291e-02,\n",
              "          8.2959e-02,  7.1306e-02, -1.4679e-01,  1.3560e-01, -1.9354e-02],\n",
              "        [ 1.4576e-01,  2.7367e-02,  5.8119e-03,  6.1591e-02,  1.0729e-01,\n",
              "         -3.6123e-02, -1.9706e-04, -3.1537e-01,  3.5023e-02, -7.6562e-02],\n",
              "        [ 3.7811e-02, -8.8071e-02,  1.6267e-02,  2.7436e-02,  9.2666e-02,\n",
              "          1.4172e-01, -5.9179e-02,  6.2995e-02, -1.7723e-02, -8.2190e-03],\n",
              "        [ 7.2886e-02,  2.4772e-02, -8.6893e-02, -2.2069e-02,  7.3051e-02,\n",
              "          9.0385e-02,  4.8475e-02,  1.0178e-02, -6.7194e-02,  6.2115e-02],\n",
              "        [ 1.4420e-01,  5.8354e-02, -2.8086e-02, -1.1499e-02,  1.7914e-01,\n",
              "          7.4083e-02,  1.0299e-01,  7.2366e-02,  1.3929e-02,  1.1744e-02],\n",
              "        [ 2.8905e-02, -7.4703e-02, -6.1173e-02, -7.3009e-03,  8.3981e-02,\n",
              "          6.2718e-02, -5.3068e-02,  8.5384e-02, -9.8525e-02, -3.6325e-03],\n",
              "        [ 1.6608e-01,  2.8881e-02,  1.5785e-02, -5.0724e-02,  1.3946e-01,\n",
              "          1.9502e-01,  7.3781e-03, -2.4033e-02,  7.5309e-02,  7.8656e-02],\n",
              "        [-1.3947e-02, -2.7260e-02,  3.9860e-02,  4.2318e-02,  4.9353e-02,\n",
              "          8.5343e-02, -2.9799e-02,  5.7581e-02,  3.0451e-02,  4.0485e-02],\n",
              "        [ 2.2805e-02,  2.9990e-02, -2.3763e-02,  1.1863e-01,  4.1094e-02,\n",
              "         -1.2542e-02,  4.5515e-02, -1.0320e-01, -4.1935e-02, -2.5610e-02],\n",
              "        [-1.8133e-02, -3.7149e-03,  1.9337e-02, -4.3124e-02,  2.3386e-02,\n",
              "          5.8630e-02, -4.4997e-02,  2.1729e-02, -5.2505e-02,  3.2829e-02],\n",
              "        [ 1.7444e-01, -3.7406e-02, -1.0374e-01, -1.4526e-01,  1.7425e-01,\n",
              "         -4.1641e-02,  4.7661e-02,  5.7087e-02, -7.2522e-02,  1.4982e-02],\n",
              "        [ 1.0486e-01,  8.9090e-02, -5.3500e-02,  5.8793e-02,  8.8392e-02,\n",
              "          3.5429e-02,  1.5508e-01, -8.8452e-02,  5.4199e-02,  8.4481e-02],\n",
              "        [ 6.3817e-02,  7.3657e-02,  1.3693e-02, -1.2014e-01, -3.2370e-02,\n",
              "          3.8613e-02,  1.4670e-01, -1.8064e-02, -6.4113e-02, -5.0360e-02],\n",
              "        [ 9.5155e-02, -1.1790e-02, -2.6279e-02, -8.8725e-02,  1.8776e-01,\n",
              "         -1.0137e-01,  2.2187e-01, -1.1457e-02,  8.5474e-02,  7.3135e-02],\n",
              "        [ 1.5723e-01, -1.8039e-01, -8.2526e-02,  9.4140e-02,  1.7581e-01,\n",
              "         -1.7524e-02, -8.3858e-02, -1.9688e-02,  4.8082e-02,  3.1357e-02],\n",
              "        [-8.7452e-02, -1.4311e-02, -2.2470e-01,  1.7295e-01, -4.9088e-03,\n",
              "          5.9416e-02, -3.5218e-03, -4.5652e-02, -1.9934e-01, -1.5281e-03],\n",
              "        [ 5.9035e-02,  1.5459e-02,  4.8166e-02,  1.7591e-02,  1.9444e-02,\n",
              "          1.1424e-01, -4.0445e-02, -3.2109e-02, -4.6175e-02,  1.0897e-01],\n",
              "        [ 2.3251e-02,  2.1832e-02,  4.8765e-02,  4.1170e-02, -1.9730e-04,\n",
              "         -7.5105e-02, -2.4972e-02, -1.4150e-01,  8.0371e-02, -1.0097e-01],\n",
              "        [ 3.0360e-01,  3.9215e-02,  5.2692e-03, -7.3540e-02,  1.7810e-01,\n",
              "          8.6635e-02,  3.8728e-02, -1.8659e-02,  2.8764e-02,  7.8803e-02],\n",
              "        [-7.5922e-02, -2.8887e-02,  6.9489e-04,  6.0545e-03,  3.7510e-03,\n",
              "         -4.0081e-02, -4.2311e-02, -9.5660e-02,  1.5610e-02, -7.3569e-03],\n",
              "        [ 2.0511e-02,  3.3376e-02,  7.5852e-02, -4.5726e-02,  2.5366e-02,\n",
              "          2.1144e-01, -1.7512e-01, -1.4133e-01,  1.8340e-01, -7.8676e-02],\n",
              "        [ 1.4389e-01, -7.3858e-02, -1.0229e-01, -2.3379e-02,  1.6182e-01,\n",
              "          1.0795e-01,  1.9544e-02,  2.7299e-02, -7.7585e-02, -5.8464e-02],\n",
              "        [ 1.0555e-01,  2.5117e-03, -1.9086e-02,  2.3100e-02, -2.8806e-02,\n",
              "          1.6249e-01, -2.4213e-02,  9.7415e-03, -9.3484e-02,  1.1746e-01],\n",
              "        [ 5.7074e-03, -5.0712e-02, -1.0038e-01, -3.3660e-02,  3.7226e-02,\n",
              "          6.1408e-03,  1.9345e-02,  3.4629e-02,  4.2536e-02,  1.9806e-02],\n",
              "        [ 1.9384e-01, -1.0608e-01,  2.3492e-04,  9.9182e-02,  1.0339e-01,\n",
              "          1.0002e-01,  2.9956e-02,  5.1489e-02, -9.5475e-03,  1.4485e-01],\n",
              "        [ 5.4877e-02,  8.2106e-02,  1.6657e-02, -1.7353e-02,  2.1421e-01,\n",
              "         -1.3494e-01,  3.0380e-02, -9.8160e-02,  6.9403e-02, -1.8733e-02],\n",
              "        [ 8.2838e-02,  3.8492e-04, -8.2753e-02, -8.8084e-02,  1.5611e-01,\n",
              "          2.0332e-02, -4.7979e-02, -4.1289e-02,  6.3192e-03,  9.8673e-03],\n",
              "        [ 2.7718e-02,  1.1125e-01, -5.5948e-02, -9.3503e-02, -1.6909e-02,\n",
              "          7.1115e-03,  8.5930e-02,  7.5531e-03, -9.9636e-02, -2.9845e-02]],\n",
              "       grad_fn=<AddmmBackward0>)"
            ]
          },
          "metadata": {},
          "execution_count": 213
        }
      ]
    },
    {
      "cell_type": "code",
      "source": [
        "y_first_batch"
      ],
      "metadata": {
        "colab": {
          "base_uri": "https://localhost:8080/"
        },
        "id": "3kb4zBC_BfsS",
        "outputId": "e260ae54-fea8-457e-f098-208f19a64e6d"
      },
      "execution_count": null,
      "outputs": [
        {
          "output_type": "execute_result",
          "data": {
            "text/plain": [
              "tensor([1, 0, 8, 4, 8, 3, 2, 6, 3, 4, 3, 6, 4, 0, 1, 8, 5, 3, 4, 0, 9, 8, 4, 4,\n",
              "        4, 1, 8, 8, 1, 4, 3, 5])"
            ]
          },
          "metadata": {},
          "execution_count": 214
        }
      ]
    },
    {
      "cell_type": "code",
      "source": [
        "cost_fn = nn.CrossEntropyLoss()\n",
        "y_pred = model(x_first_batch)\n",
        "cost = cost_fn(y_pred, y_first_batch) #已將y_first_batch 做onehot (tensorflow須設定)\n",
        "print(cost)\n",
        "print(model.state_dict())\n",
        "\n",
        "optimizer = torch.optim.SGD(params=model.parameters(), lr= 0.0045)\n",
        "optimizer.zero_grad()\n",
        "cost.backward()\n",
        "optimizer.step()\n",
        "\n",
        "y_pred = model(x_first_batch)\n",
        "cost = cost_fn(y_pred, y_first_batch)\n",
        "print(cost)\n",
        "print(model.state_dict())"
      ],
      "metadata": {
        "colab": {
          "base_uri": "https://localhost:8080/"
        },
        "id": "brSNRBvARcAZ",
        "outputId": "9bea13a4-57f4-45b3-a365-e24cd1161118"
      },
      "execution_count": null,
      "outputs": [
        {
          "output_type": "stream",
          "name": "stdout",
          "text": [
            "tensor(2.2738, grad_fn=<NllLossBackward0>)\n",
            "OrderedDict([('layer_stack.2.weight', tensor([[-0.0355,  0.0281, -0.0032,  ..., -0.0253,  0.0329, -0.0172],\n",
            "        [-0.0108, -0.0178,  0.0132,  ...,  0.0324, -0.0354,  0.0180],\n",
            "        [-0.0197,  0.0092,  0.0163,  ..., -0.0204,  0.0296, -0.0310],\n",
            "        ...,\n",
            "        [-0.0326,  0.0243,  0.0171,  ...,  0.0259, -0.0348,  0.0155],\n",
            "        [ 0.0285, -0.0217,  0.0329,  ..., -0.0054,  0.0221, -0.0229],\n",
            "        [ 0.0016,  0.0171,  0.0221,  ..., -0.0113, -0.0222, -0.0106]])), ('layer_stack.2.bias', tensor([-8.7678e-05,  6.9116e-03,  2.1466e-02, -3.0031e-02, -2.0588e-02,\n",
            "        -2.9523e-02,  1.5793e-03, -3.2348e-02, -3.7860e-03, -7.0510e-03,\n",
            "        -5.3662e-03,  1.7467e-02,  1.2004e-02, -2.1697e-02, -1.4577e-02,\n",
            "         3.8082e-03,  1.4872e-02, -1.1800e-02,  2.4788e-02, -1.2057e-02,\n",
            "         1.6760e-02, -2.3474e-02,  2.6597e-02, -1.5559e-02, -2.1384e-02,\n",
            "        -3.4645e-02, -1.8406e-02,  2.7766e-02, -1.3521e-02,  3.4028e-02,\n",
            "         3.5049e-03, -3.4051e-02, -1.3781e-02, -3.3655e-02,  1.7994e-02,\n",
            "         4.7947e-03,  6.0300e-03, -1.4136e-02,  1.0815e-02,  2.3726e-02,\n",
            "         1.1845e-02, -1.2952e-02, -7.8968e-03,  8.4084e-03,  1.8289e-02,\n",
            "        -2.3979e-02,  7.5159e-03,  2.1271e-02,  2.7500e-02, -1.5029e-02,\n",
            "         1.5520e-02,  5.6124e-03, -2.3615e-02,  2.6104e-02,  4.9287e-03,\n",
            "        -1.3340e-02,  3.3390e-02,  2.9085e-02,  1.1608e-02,  9.6785e-03,\n",
            "         3.2220e-02,  1.5858e-02, -2.9378e-02,  1.2345e-02,  1.9895e-02,\n",
            "         2.0766e-02,  9.3963e-03, -1.4445e-02, -3.1674e-02, -1.7234e-02,\n",
            "        -2.5035e-02,  3.3096e-02, -3.3618e-02,  2.5078e-02, -1.1059e-02,\n",
            "        -1.2407e-02, -3.5710e-02, -2.6436e-02,  3.0459e-02, -3.0723e-02,\n",
            "         2.4920e-02,  1.3666e-02, -8.7333e-03,  2.6022e-02,  3.1170e-02,\n",
            "        -1.9434e-02,  3.4053e-02,  4.0103e-03, -1.7336e-02,  2.9757e-02,\n",
            "         2.6135e-02,  1.4496e-02, -1.4127e-02,  2.0354e-02, -6.2626e-03,\n",
            "        -5.2166e-03, -1.2994e-02,  2.9930e-02,  2.4099e-02,  1.2666e-03])), ('layer_stack.4.weight', tensor([[-9.2886e-02,  7.2263e-02,  6.0671e-02, -4.6762e-02,  4.4667e-03,\n",
            "          6.0071e-02,  3.6773e-02,  5.6518e-02, -5.8634e-02,  2.2972e-03,\n",
            "          2.4465e-02, -6.3956e-02, -4.3710e-02, -2.9616e-03,  9.1779e-03,\n",
            "          7.9500e-02,  9.1229e-02, -1.2545e-02, -4.0440e-02,  7.5907e-02,\n",
            "          3.3697e-02,  3.0183e-02,  3.5267e-02,  3.0743e-02, -1.5764e-02,\n",
            "         -4.8242e-02, -1.0656e-02,  5.1704e-02, -2.6201e-02, -6.7346e-02,\n",
            "          1.0178e-02,  9.1009e-02, -7.1521e-02, -5.4452e-02,  9.0186e-02,\n",
            "         -6.3144e-02, -3.5307e-02, -8.7703e-02,  9.2949e-02,  6.8251e-02,\n",
            "         -6.9282e-02, -7.8857e-02, -9.3836e-02, -6.9908e-02,  5.9855e-02,\n",
            "         -7.6787e-02, -1.9163e-02, -6.1839e-03,  5.4974e-02, -3.4008e-03,\n",
            "         -8.4720e-02, -5.0487e-02, -2.0774e-02,  8.1689e-03, -8.2289e-02,\n",
            "         -5.3513e-02, -5.1494e-03, -7.5798e-02, -5.0780e-02,  1.2812e-02,\n",
            "         -3.4943e-02, -2.9927e-02,  9.3265e-02, -4.8457e-02,  4.6081e-02,\n",
            "          3.5246e-02, -2.7489e-02, -2.0536e-02,  8.8667e-02,  9.6259e-02,\n",
            "         -3.1262e-02, -3.3216e-03, -5.2129e-03, -8.4387e-02, -1.6047e-02,\n",
            "         -6.1521e-03,  9.5562e-02, -1.7590e-02, -3.2243e-02,  9.2060e-02,\n",
            "         -6.7478e-03, -1.9156e-02,  3.0260e-02, -7.6146e-02, -2.3428e-02,\n",
            "         -2.9105e-02, -3.0692e-02,  2.2906e-03, -6.0714e-02, -9.1422e-02,\n",
            "          2.3122e-03, -3.1236e-02,  8.2939e-02,  9.4585e-02,  2.8643e-02,\n",
            "         -6.4758e-02, -8.0364e-02, -1.8572e-02,  7.0563e-02,  1.9214e-02],\n",
            "        [-2.2974e-04,  4.9201e-02, -8.1441e-02,  2.2644e-02,  6.9468e-02,\n",
            "         -6.5440e-03, -1.3659e-02, -8.4666e-02,  3.5387e-02,  4.0270e-02,\n",
            "          5.7851e-03,  7.3942e-02, -5.6446e-02,  9.8178e-02,  2.3418e-02,\n",
            "         -1.4934e-02, -8.9995e-02,  1.8296e-02,  5.8475e-02, -2.5026e-02,\n",
            "         -5.0988e-02,  3.3646e-02,  1.5817e-02,  2.3768e-02, -5.9376e-02,\n",
            "          2.2750e-02, -2.5641e-02, -6.2969e-02, -7.4021e-02,  4.0421e-02,\n",
            "          8.6728e-02, -3.9075e-02, -9.9088e-02,  3.4362e-03, -5.1949e-02,\n",
            "          7.2430e-02,  3.2337e-02,  9.1289e-02,  5.2125e-02, -4.1546e-02,\n",
            "          5.3018e-02,  1.8978e-02, -6.8245e-02,  1.9474e-04,  7.4494e-02,\n",
            "          2.1742e-02, -1.7773e-02,  9.6804e-02, -8.4853e-02,  3.1018e-02,\n",
            "         -5.7988e-02, -6.5147e-02,  5.1277e-02,  7.1033e-02, -8.2063e-02,\n",
            "          4.0569e-02,  2.0041e-02,  6.3249e-02,  1.7429e-02,  2.7764e-02,\n",
            "          5.6887e-02,  9.2583e-02, -8.0887e-02,  3.5472e-02,  4.2020e-02,\n",
            "          8.7669e-02, -5.6779e-02, -5.4455e-02,  1.8716e-02, -7.2449e-02,\n",
            "          4.8661e-02,  7.0642e-03, -2.8645e-02,  5.5596e-02,  1.1975e-02,\n",
            "         -6.5609e-02,  9.1504e-02,  1.2898e-02,  5.3145e-02,  9.7931e-02,\n",
            "          3.2789e-02, -7.8408e-02, -9.3315e-02, -7.7986e-02,  2.0731e-02,\n",
            "         -7.2059e-02, -6.9836e-02, -3.8419e-02, -6.4156e-02,  2.3495e-02,\n",
            "          3.5140e-02, -6.0397e-02, -5.2400e-02,  8.9340e-03,  3.5082e-02,\n",
            "          5.8986e-02, -3.6481e-02, -8.8508e-02, -2.5611e-02, -3.0004e-02],\n",
            "        [ 1.2225e-02,  3.8866e-02,  2.9266e-02,  7.8477e-02,  7.1825e-04,\n",
            "         -1.4021e-02,  7.4749e-02,  8.3546e-02, -1.7246e-02,  3.5072e-02,\n",
            "         -1.7056e-02, -9.1898e-02, -7.0715e-03, -8.6880e-04,  8.3101e-02,\n",
            "         -3.1634e-02,  7.9966e-02, -7.9709e-02,  4.1447e-02,  7.5450e-03,\n",
            "          2.4113e-02, -4.3114e-02, -6.9614e-02, -5.7509e-02,  1.8808e-02,\n",
            "          3.9377e-02, -7.7452e-03,  4.4406e-02, -5.9236e-02, -4.7640e-02,\n",
            "         -3.8242e-03,  7.0783e-02, -3.7563e-02,  7.4615e-02, -5.9694e-02,\n",
            "         -7.5756e-03,  3.4941e-02, -5.5560e-02, -7.3684e-02, -7.6509e-02,\n",
            "          6.4276e-03,  1.1191e-02,  2.3085e-02,  9.5851e-02,  4.2247e-03,\n",
            "         -9.4156e-02,  1.2677e-03,  2.0938e-02, -6.0189e-02,  3.3034e-02,\n",
            "         -9.6677e-02, -6.8855e-03, -7.3585e-02,  3.9050e-02,  2.5414e-02,\n",
            "          5.0565e-03,  9.3726e-02, -8.8186e-03,  1.0690e-02,  6.6213e-02,\n",
            "          5.1741e-02, -5.2598e-02, -3.4653e-02,  1.4903e-02, -6.9221e-02,\n",
            "         -1.7075e-02, -6.0639e-02,  6.1944e-02,  1.2442e-02,  1.2769e-02,\n",
            "          3.1502e-02,  6.0254e-02, -9.3773e-03, -9.3790e-02, -2.6326e-03,\n",
            "          3.1643e-02, -5.9105e-03,  7.7816e-02, -3.4343e-03, -3.7242e-02,\n",
            "         -4.3424e-02, -2.1167e-02, -3.7521e-02, -4.4947e-02,  8.6538e-02,\n",
            "          2.0231e-02, -5.0788e-03,  3.3825e-02, -6.6211e-02,  1.6218e-02,\n",
            "         -6.9443e-02, -9.2309e-02,  6.6401e-02, -3.9088e-02,  3.1118e-02,\n",
            "          5.0332e-02,  5.7101e-02, -3.0512e-02, -8.3246e-03, -1.7840e-02],\n",
            "        [-5.2294e-02,  3.3457e-02,  1.7058e-03,  7.2389e-02,  3.4058e-04,\n",
            "          7.9741e-02,  7.3087e-02,  2.8021e-02, -7.2403e-02,  4.9793e-02,\n",
            "         -4.0922e-02,  1.4868e-02, -3.4857e-02,  4.5457e-02,  6.8199e-02,\n",
            "         -3.7327e-02, -2.3882e-02, -5.5858e-02, -9.1392e-02, -4.9360e-02,\n",
            "          2.0564e-02, -7.2973e-02,  8.0719e-02, -1.9838e-02, -1.5402e-02,\n",
            "          6.4776e-02, -1.5561e-02, -4.3866e-03, -9.6249e-02,  5.5102e-02,\n",
            "          4.0948e-02, -5.4684e-02, -2.7164e-02,  2.0936e-02,  2.3762e-02,\n",
            "          5.8373e-02, -7.1149e-02,  7.4694e-02, -1.8783e-02,  9.0473e-02,\n",
            "          2.8521e-02,  3.7337e-02,  3.2078e-02, -1.5635e-02, -6.1120e-03,\n",
            "          4.2939e-02,  5.5946e-02,  4.5321e-02,  5.5907e-02,  9.7591e-02,\n",
            "          6.7031e-02,  2.7735e-02,  6.2181e-02, -4.5763e-02,  2.1312e-02,\n",
            "          8.7683e-02,  3.6416e-02, -4.6167e-02,  3.7646e-02, -6.5766e-02,\n",
            "         -5.1000e-03, -4.7818e-02,  9.0629e-02,  5.2547e-02, -5.6956e-02,\n",
            "         -7.4069e-02,  2.1476e-03, -7.5809e-02, -1.0608e-02, -3.3337e-02,\n",
            "          2.8972e-02, -4.6367e-02,  9.9629e-02, -7.5361e-02,  5.6579e-02,\n",
            "          1.7589e-02, -7.9794e-03, -4.1287e-02,  6.0193e-02, -2.2151e-02,\n",
            "         -5.2669e-02, -3.1554e-02, -4.7671e-02, -8.6588e-02,  4.2551e-02,\n",
            "          2.3955e-02, -6.5996e-02,  5.3971e-02,  2.6663e-02, -6.7019e-02,\n",
            "         -9.0870e-02, -3.0715e-04, -5.2768e-02, -8.7985e-02,  7.8836e-02,\n",
            "         -9.2952e-02,  1.7826e-02,  1.6691e-02,  6.8377e-02, -2.3942e-02],\n",
            "        [-4.1929e-02, -1.6239e-02,  8.3734e-02, -7.6737e-02, -5.5186e-02,\n",
            "         -7.7669e-02,  7.3851e-03,  4.5320e-02,  8.5883e-02,  8.4049e-02,\n",
            "          1.5400e-02, -3.2037e-02, -2.0248e-02,  8.5483e-02,  8.0190e-02,\n",
            "          4.3818e-02,  7.3206e-02,  6.6503e-02, -4.0713e-03, -6.7136e-03,\n",
            "          6.6229e-02, -7.2293e-04, -6.3526e-02, -8.2992e-02,  9.6410e-02,\n",
            "         -6.0678e-02,  8.8665e-02, -8.2422e-03, -8.9465e-02, -2.8004e-02,\n",
            "         -4.6093e-02,  2.9270e-02, -4.3830e-02, -9.3252e-02, -1.9133e-02,\n",
            "         -1.3963e-02, -1.6315e-02, -4.3038e-03, -7.5623e-02,  7.6942e-02,\n",
            "         -4.7728e-02,  2.6929e-02, -8.5827e-02,  3.1538e-02, -6.5387e-02,\n",
            "         -5.0480e-02, -1.5484e-02,  4.3263e-02,  7.9842e-02,  7.5637e-02,\n",
            "          3.2265e-02, -8.4153e-02, -5.6183e-02, -6.4667e-02,  7.1849e-02,\n",
            "         -4.9724e-03,  1.7629e-02,  3.0821e-02,  2.3371e-02,  3.2343e-02,\n",
            "         -8.7148e-02,  5.7021e-02, -7.6890e-02,  7.6130e-02,  8.2102e-02,\n",
            "          7.0842e-02, -2.7890e-02,  3.0957e-02,  9.2991e-02, -2.1429e-02,\n",
            "         -2.4349e-02, -2.9412e-02, -9.8019e-02, -3.7173e-02, -2.3141e-02,\n",
            "          5.2068e-03,  1.7603e-02,  4.9318e-02,  2.8996e-02, -5.6958e-02,\n",
            "          2.1137e-02, -5.4578e-02,  7.9528e-02,  8.4780e-02, -8.3191e-02,\n",
            "         -8.7676e-02, -2.1451e-02,  9.1945e-02, -6.4186e-02, -2.2167e-02,\n",
            "          5.5301e-02, -4.4159e-02, -5.0466e-02,  9.7345e-02, -9.7696e-02,\n",
            "         -9.9765e-02, -2.5354e-02,  6.0112e-02, -4.8037e-02, -5.2558e-02],\n",
            "        [-4.7963e-02,  9.1879e-02,  5.4783e-02,  6.4802e-02, -4.1692e-02,\n",
            "          9.0744e-02,  9.1103e-02,  8.2094e-02, -6.7251e-02, -3.3691e-02,\n",
            "         -6.5760e-03,  7.1905e-02, -7.9239e-02,  2.3624e-02,  9.8030e-02,\n",
            "         -4.0930e-02,  2.7118e-02,  9.2012e-02, -2.5224e-02, -2.3538e-02,\n",
            "         -7.8697e-02, -4.4765e-02,  9.7012e-02, -1.4801e-02, -3.4596e-02,\n",
            "          7.2461e-02,  9.7277e-02, -9.1252e-02, -1.4171e-02, -1.4944e-02,\n",
            "          1.5849e-02,  7.4217e-02,  7.7037e-02,  2.3375e-02,  5.0127e-02,\n",
            "          5.6306e-04,  1.0192e-02, -7.4484e-02, -1.2823e-02, -1.0077e-02,\n",
            "         -4.4415e-02, -1.8412e-02,  5.6026e-02, -2.1657e-02, -2.1279e-02,\n",
            "         -2.5897e-02, -8.3600e-02, -3.7432e-02, -8.7055e-02,  6.5344e-02,\n",
            "         -5.3423e-02,  3.5497e-03,  5.6938e-03, -5.6625e-02, -9.4925e-02,\n",
            "          1.0822e-02,  3.5680e-02,  9.0754e-02, -2.0241e-02,  1.1326e-02,\n",
            "         -7.9189e-02, -3.0123e-03, -2.4527e-02, -3.9988e-02, -1.2166e-02,\n",
            "          9.9210e-02, -2.1509e-02,  5.3859e-02,  5.7964e-03,  2.2727e-02,\n",
            "         -8.3815e-02, -3.1392e-02,  7.3764e-02, -8.3504e-02, -9.1234e-02,\n",
            "          4.9206e-02,  4.2785e-02,  4.3594e-02, -8.7123e-02,  4.2013e-02,\n",
            "         -4.9214e-02, -7.8814e-02,  8.9432e-02, -5.0610e-03,  3.5831e-02,\n",
            "          7.7069e-02, -5.7411e-04,  8.8940e-03, -2.5689e-02, -4.6221e-02,\n",
            "          9.6562e-02, -6.7406e-03, -8.5308e-02, -6.2464e-02,  9.0015e-02,\n",
            "          6.6256e-02,  5.0125e-02,  1.0031e-03, -6.3236e-03, -5.8367e-02],\n",
            "        [-4.0774e-02, -6.2063e-02, -5.1398e-03, -8.9428e-02, -7.9088e-02,\n",
            "          9.8592e-02,  5.0126e-02,  3.3494e-02,  6.6687e-02,  2.3644e-02,\n",
            "          9.2587e-02, -8.8153e-02,  7.9748e-02,  5.8097e-02,  8.1834e-02,\n",
            "         -2.0646e-02, -9.8145e-02,  5.8694e-02, -8.0687e-02, -9.1681e-02,\n",
            "         -4.6357e-02, -3.9470e-02, -3.0333e-02,  7.2509e-02,  8.8035e-02,\n",
            "         -5.2587e-02, -2.9455e-02,  7.0905e-02,  3.2107e-02,  7.2471e-02,\n",
            "          5.0799e-02, -9.0782e-02, -9.2090e-02,  8.1905e-02, -9.8940e-02,\n",
            "          2.9127e-02, -2.3575e-02, -4.8548e-03,  6.0448e-02,  4.2901e-02,\n",
            "         -2.3150e-02, -3.6041e-02, -5.7445e-02,  5.2921e-03, -1.6251e-02,\n",
            "         -5.1687e-02,  5.9597e-02,  5.6567e-02, -6.5951e-02,  7.6270e-02,\n",
            "         -8.3991e-02,  4.0605e-02, -9.5016e-02,  7.8560e-02,  7.2364e-04,\n",
            "         -5.2132e-02, -1.4080e-02, -6.8792e-02, -2.0514e-02,  2.3506e-02,\n",
            "          5.2457e-02,  2.8307e-02,  8.5653e-02,  8.3714e-02, -1.8065e-02,\n",
            "         -1.6169e-02,  6.4699e-02, -9.9116e-02,  2.7638e-02, -1.6066e-02,\n",
            "         -3.6361e-03,  2.6738e-02,  8.4889e-02,  4.2699e-02, -4.8962e-02,\n",
            "         -8.3674e-02,  5.9336e-03,  8.6522e-03,  8.7666e-02,  6.5552e-02,\n",
            "          3.3253e-02,  7.1151e-02, -9.2317e-03, -6.3601e-02,  6.9083e-02,\n",
            "         -6.5680e-03, -2.3773e-02, -4.7625e-02,  6.6917e-02,  9.7882e-02,\n",
            "          4.2325e-03,  5.9571e-02,  8.8912e-04,  2.2254e-02, -6.4264e-03,\n",
            "          1.7403e-02, -8.1457e-02, -2.1096e-02, -4.6599e-02,  5.2628e-02],\n",
            "        [-2.7978e-03,  2.3940e-02,  9.2801e-02,  5.6463e-02, -8.4762e-02,\n",
            "          4.7315e-02, -4.3169e-02, -9.6719e-02, -2.2266e-02,  6.7995e-02,\n",
            "         -8.9696e-02,  9.7445e-02,  7.7752e-03,  1.5060e-02, -1.9156e-02,\n",
            "         -7.9138e-02,  8.2947e-02,  1.2330e-02,  1.8285e-02, -9.5084e-02,\n",
            "          5.4175e-03,  5.3078e-02,  3.3824e-03, -5.0937e-02,  6.7028e-02,\n",
            "          8.5931e-02,  9.6069e-03,  2.6083e-02,  6.1331e-02,  3.3521e-02,\n",
            "         -7.4139e-02, -8.3605e-02, -1.3054e-02, -6.8233e-02, -5.8084e-02,\n",
            "          8.1331e-02, -6.9005e-02,  3.4569e-02, -9.0181e-02, -5.0903e-02,\n",
            "          4.0254e-02, -3.5376e-02, -3.1991e-02, -9.2651e-02, -5.7994e-02,\n",
            "         -2.9586e-02, -3.4727e-02,  2.2051e-02, -7.7619e-02, -9.0463e-02,\n",
            "         -1.1322e-02, -9.2769e-02,  8.9055e-02, -7.5630e-02,  5.8196e-02,\n",
            "         -1.5418e-02, -3.8738e-02, -4.0921e-02, -2.3190e-02,  3.5086e-02,\n",
            "         -3.8585e-02,  8.1892e-02,  3.0819e-02, -4.7271e-02,  2.8885e-03,\n",
            "         -5.0129e-02, -5.6830e-02,  7.8656e-02,  1.1336e-02,  6.9074e-02,\n",
            "          7.7305e-02, -8.0917e-02, -6.2079e-02, -7.2190e-02, -1.6196e-02,\n",
            "         -6.2830e-02, -9.3273e-02,  3.6889e-02, -8.5862e-02, -4.0359e-02,\n",
            "          3.9701e-02, -1.4901e-02,  9.0495e-02,  8.5595e-02,  6.0211e-02,\n",
            "          2.9829e-03, -1.6038e-02,  3.7557e-03,  2.6843e-02,  9.5859e-02,\n",
            "          9.7776e-02, -7.4898e-02, -7.3017e-02, -4.0170e-02, -4.9766e-02,\n",
            "          3.5137e-03, -8.8970e-03, -1.3715e-02,  3.3800e-02,  4.0111e-02],\n",
            "        [ 5.1603e-02,  4.6976e-02,  2.2499e-02,  8.6547e-02,  2.3517e-02,\n",
            "         -8.0938e-02, -2.9159e-05, -4.4539e-02,  1.9849e-02,  9.3035e-02,\n",
            "          9.5950e-02,  8.8392e-02,  7.1916e-02, -2.0413e-02,  6.8288e-02,\n",
            "          4.7055e-02, -7.0117e-02,  9.2140e-02,  3.6447e-02,  6.7191e-02,\n",
            "          3.4617e-02, -9.0141e-02,  2.0201e-02, -3.3014e-02, -5.6824e-02,\n",
            "          4.3936e-02, -2.7165e-02,  7.4991e-02, -9.8485e-02, -3.7001e-02,\n",
            "         -3.3138e-02,  5.0738e-02, -9.5284e-02, -6.1904e-02,  6.5543e-02,\n",
            "          6.1780e-02, -4.9728e-02,  3.6398e-02,  3.4445e-02,  7.9481e-02,\n",
            "         -8.6691e-02,  3.4495e-02,  5.8479e-02,  1.2830e-02,  3.0490e-02,\n",
            "          6.0909e-02, -7.5271e-02,  4.0527e-02, -9.8007e-03, -5.5742e-02,\n",
            "         -9.7763e-02,  2.7086e-02,  3.1855e-04, -1.9527e-02,  1.6123e-02,\n",
            "          3.1533e-02, -5.2790e-02,  2.8090e-02,  5.1043e-03,  3.7040e-02,\n",
            "         -3.1197e-02, -6.0944e-02, -4.8726e-02, -1.3739e-02,  7.0238e-02,\n",
            "         -9.0635e-02, -4.6106e-02, -3.4941e-02,  1.1013e-02,  4.5331e-03,\n",
            "         -4.8607e-02,  7.9303e-02, -3.9623e-02, -5.5801e-02, -8.9570e-03,\n",
            "         -6.0337e-02,  8.9182e-02, -7.6885e-02,  1.5281e-02, -9.6575e-02,\n",
            "          1.8486e-04, -7.3697e-02, -4.7676e-02, -4.5711e-02,  7.2487e-02,\n",
            "         -3.5388e-02,  8.1928e-02,  8.8552e-02, -7.9568e-02, -6.2933e-02,\n",
            "          6.2819e-02,  2.8026e-02,  5.6262e-02,  5.4560e-02, -8.6459e-02,\n",
            "          8.7000e-02,  1.9365e-02, -8.4462e-02, -8.7828e-02,  6.3007e-02],\n",
            "        [ 4.9430e-02, -6.9468e-02,  9.3266e-02,  9.2569e-02, -9.8532e-02,\n",
            "          6.9701e-02,  7.1354e-02, -3.9673e-02,  3.7228e-02, -9.0228e-04,\n",
            "          8.6541e-03, -8.9230e-02,  6.8732e-02,  3.6521e-02, -4.6441e-02,\n",
            "         -2.7103e-02,  4.3816e-02,  2.6120e-02,  7.0584e-05, -7.1864e-02,\n",
            "          3.7557e-02, -5.4940e-02,  2.4121e-02,  5.1711e-03, -5.8280e-02,\n",
            "         -7.9105e-03,  8.5905e-02, -1.8631e-03, -7.2192e-02, -5.4889e-02,\n",
            "         -9.1829e-02,  2.5303e-02,  2.7693e-02,  2.6699e-02,  4.9217e-02,\n",
            "          2.7202e-02, -9.0015e-02,  8.0408e-02, -2.2347e-02,  8.9224e-03,\n",
            "         -8.1258e-02,  2.8326e-02, -9.7412e-02, -7.6422e-02,  9.5761e-02,\n",
            "         -1.0817e-03, -7.5430e-02, -9.0996e-02,  8.9203e-02,  8.3703e-02,\n",
            "         -4.0855e-02, -4.4581e-02, -2.0047e-02, -7.3361e-02,  2.6420e-02,\n",
            "         -1.3136e-02,  6.0630e-02, -5.7863e-02, -1.6839e-02, -8.7106e-02,\n",
            "         -3.5947e-02,  5.4159e-04, -8.0558e-02, -8.9667e-02,  2.1465e-02,\n",
            "          7.4754e-02, -9.1962e-03,  7.8548e-02,  2.1245e-02, -2.7970e-02,\n",
            "         -8.8277e-02, -9.4988e-02, -2.1693e-02, -8.9886e-02,  6.8870e-02,\n",
            "         -1.2408e-02, -8.7824e-02, -9.6621e-02,  2.9050e-02, -8.0414e-03,\n",
            "          4.0615e-02, -4.4036e-02, -4.9274e-02, -1.7370e-02,  3.1090e-02,\n",
            "          8.5200e-02, -4.8449e-03,  5.6714e-02,  3.6856e-02, -3.6682e-02,\n",
            "          4.1681e-02, -5.0828e-02,  9.8851e-02, -8.9997e-02, -8.8816e-02,\n",
            "         -3.4824e-02, -9.6843e-03, -2.0736e-02, -4.2917e-02,  9.4823e-02]])), ('layer_stack.4.bias', tensor([ 0.0388,  0.0115, -0.0692, -0.0323,  0.0874, -0.0005,  0.0274,  0.0985,\n",
            "        -0.0504,  0.0620]))])\n",
            "tensor(2.2699, grad_fn=<NllLossBackward0>)\n",
            "OrderedDict([('layer_stack.2.weight', tensor([[-0.0355,  0.0281, -0.0032,  ..., -0.0253,  0.0329, -0.0172],\n",
            "        [-0.0108, -0.0178,  0.0132,  ...,  0.0324, -0.0354,  0.0180],\n",
            "        [-0.0197,  0.0092,  0.0163,  ..., -0.0204,  0.0296, -0.0310],\n",
            "        ...,\n",
            "        [-0.0326,  0.0243,  0.0171,  ...,  0.0259, -0.0348,  0.0155],\n",
            "        [ 0.0285, -0.0217,  0.0329,  ..., -0.0054,  0.0221, -0.0229],\n",
            "        [ 0.0016,  0.0171,  0.0221,  ..., -0.0113, -0.0222, -0.0106]])), ('layer_stack.2.bias', tensor([-9.9694e-05,  6.9144e-03,  2.1446e-02, -3.0112e-02, -2.0571e-02,\n",
            "        -2.9635e-02,  1.5744e-03, -3.2346e-02, -3.7697e-03, -7.0510e-03,\n",
            "        -5.3718e-03,  1.7524e-02,  1.2000e-02, -2.1647e-02, -1.4515e-02,\n",
            "         3.8527e-03,  1.4819e-02, -1.1749e-02,  2.4807e-02, -1.1964e-02,\n",
            "         1.6809e-02, -2.3516e-02,  2.6582e-02, -1.5589e-02, -2.1403e-02,\n",
            "        -3.4678e-02, -1.8392e-02,  2.7727e-02, -1.3597e-02,  3.4026e-02,\n",
            "         3.5004e-03, -3.4020e-02, -1.3820e-02, -3.3728e-02,  1.8046e-02,\n",
            "         4.7993e-03,  6.0107e-03, -1.4142e-02,  1.0823e-02,  2.3828e-02,\n",
            "         1.1823e-02, -1.2946e-02, -7.8388e-03,  8.4679e-03,  1.8288e-02,\n",
            "        -2.3917e-02,  7.5475e-03,  2.1291e-02,  2.7569e-02, -1.5031e-02,\n",
            "         1.5550e-02,  5.6064e-03, -2.3621e-02,  2.6094e-02,  4.9981e-03,\n",
            "        -1.3288e-02,  3.3336e-02,  2.9108e-02,  1.1628e-02,  9.6873e-03,\n",
            "         3.2187e-02,  1.5851e-02, -2.9345e-02,  1.2384e-02,  1.9973e-02,\n",
            "         2.0730e-02,  9.3873e-03, -1.4495e-02, -3.1641e-02, -1.7311e-02,\n",
            "        -2.5026e-02,  3.3147e-02, -3.3596e-02,  2.5091e-02, -1.1029e-02,\n",
            "        -1.2405e-02, -3.5713e-02, -2.6413e-02,  3.0503e-02, -3.0769e-02,\n",
            "         2.4929e-02,  1.3644e-02, -8.7626e-03,  2.6025e-02,  3.1119e-02,\n",
            "        -1.9483e-02,  3.4076e-02,  4.1159e-03, -1.7390e-02,  2.9691e-02,\n",
            "         2.6090e-02,  1.4530e-02, -1.4137e-02,  2.0354e-02, -6.2845e-03,\n",
            "        -5.2572e-03, -1.2991e-02,  2.9968e-02,  2.4093e-02,  1.2690e-03])), ('layer_stack.4.weight', tensor([[-9.2905e-02,  7.2236e-02,  6.0640e-02, -4.6791e-02,  4.5057e-03,\n",
            "          6.0066e-02,  3.6769e-02,  5.6512e-02, -5.8654e-02,  2.2972e-03,\n",
            "          2.4530e-02, -6.3959e-02, -4.3732e-02, -3.0454e-03,  9.1997e-03,\n",
            "          7.9456e-02,  9.1164e-02, -1.2536e-02, -4.0480e-02,  7.5907e-02,\n",
            "          3.3618e-02,  3.0161e-02,  3.5268e-02,  3.0679e-02, -1.5766e-02,\n",
            "         -4.8224e-02, -1.0675e-02,  5.1690e-02, -2.6194e-02, -6.7373e-02,\n",
            "          1.0113e-02,  9.0983e-02, -7.1445e-02, -5.4470e-02,  9.0235e-02,\n",
            "         -6.3141e-02, -3.5318e-02, -8.7706e-02,  9.2966e-02,  6.8219e-02,\n",
            "         -6.9294e-02, -7.8855e-02, -9.3857e-02, -6.9941e-02,  5.9809e-02,\n",
            "         -7.6857e-02, -1.9251e-02, -6.1775e-03,  5.4968e-02, -3.4271e-03,\n",
            "         -8.4636e-02, -5.0507e-02, -2.0786e-02,  8.1446e-03, -8.2314e-02,\n",
            "         -5.3608e-02, -5.1553e-03, -7.5754e-02, -5.0798e-02,  1.2783e-02,\n",
            "         -3.5020e-02, -2.9910e-02,  9.3259e-02, -4.8489e-02,  4.6024e-02,\n",
            "          3.5228e-02, -2.7499e-02, -2.0577e-02,  8.8634e-02,  9.6203e-02,\n",
            "         -3.1274e-02, -3.3099e-03, -5.2120e-03, -8.4395e-02, -1.6049e-02,\n",
            "         -6.1568e-03,  9.5562e-02, -1.7591e-02, -3.2240e-02,  9.2083e-02,\n",
            "         -6.7092e-03, -1.9159e-02,  3.0246e-02, -7.6140e-02, -2.3460e-02,\n",
            "         -2.9106e-02, -3.0707e-02,  2.2160e-03, -6.0766e-02, -9.1389e-02,\n",
            "          2.3433e-03, -3.1230e-02,  8.2912e-02,  9.4585e-02,  2.8625e-02,\n",
            "         -6.4778e-02, -8.0382e-02, -1.8556e-02,  7.0562e-02,  1.9204e-02],\n",
            "        [-2.4394e-04,  4.9226e-02, -8.1458e-02,  2.2612e-02,  6.9434e-02,\n",
            "         -6.5470e-03, -1.3663e-02, -8.4580e-02,  3.5367e-02,  4.0270e-02,\n",
            "          5.7717e-03,  7.3923e-02, -5.6464e-02,  9.8258e-02,  2.3361e-02,\n",
            "         -1.4906e-02, -8.9879e-02,  1.8319e-02,  5.8596e-02, -2.4989e-02,\n",
            "         -5.0942e-02,  3.3624e-02,  1.5841e-02,  2.3844e-02, -5.9379e-02,\n",
            "          2.2766e-02, -2.5630e-02, -6.2925e-02, -7.4036e-02,  4.0394e-02,\n",
            "          8.6758e-02, -3.9099e-02, -9.9105e-02,  3.4938e-03, -5.1949e-02,\n",
            "          7.2432e-02,  3.2315e-02,  9.1286e-02,  5.2115e-02, -4.1591e-02,\n",
            "          5.3006e-02,  1.8978e-02, -6.8226e-02,  1.0132e-04,  7.4470e-02,\n",
            "          2.1758e-02, -1.7810e-02,  9.6808e-02, -8.4860e-02,  3.1029e-02,\n",
            "         -5.7947e-02, -6.5124e-02,  5.1266e-02,  7.1020e-02, -8.2069e-02,\n",
            "          4.0480e-02,  2.0023e-02,  6.3290e-02,  1.7431e-02,  2.7756e-02,\n",
            "          5.6852e-02,  9.2578e-02, -8.0896e-02,  3.5468e-02,  4.2163e-02,\n",
            "          8.7665e-02, -5.6774e-02, -5.4493e-02,  1.8708e-02, -7.2351e-02,\n",
            "          4.8687e-02,  7.0595e-03, -2.8671e-02,  5.5598e-02,  1.1978e-02,\n",
            "         -6.5553e-02,  9.1504e-02,  1.2883e-02,  5.3193e-02,  9.8015e-02,\n",
            "          3.2774e-02, -7.8415e-02, -9.3282e-02, -7.7992e-02,  2.0710e-02,\n",
            "         -7.2043e-02, -6.9843e-02, -3.8370e-02, -6.4162e-02,  2.3650e-02,\n",
            "          3.5149e-02, -6.0407e-02, -5.2427e-02,  8.9340e-03,  3.5073e-02,\n",
            "          5.8984e-02, -3.6496e-02, -8.8528e-02, -2.5612e-02, -2.9938e-02],\n",
            "        [ 1.2222e-02,  3.8840e-02,  2.9215e-02,  7.8424e-02,  7.0571e-04,\n",
            "         -1.4105e-02,  7.4746e-02,  8.3502e-02, -1.7267e-02,  3.5072e-02,\n",
            "         -1.7069e-02, -9.1941e-02, -7.0804e-03, -9.2432e-04,  8.3040e-02,\n",
            "         -3.1709e-02,  7.9901e-02, -7.9726e-02,  4.1387e-02,  7.4618e-03,\n",
            "          2.4041e-02, -4.3134e-02, -6.9643e-02, -5.7622e-02,  1.8805e-02,\n",
            "          3.9364e-02, -7.7646e-03,  4.4385e-02, -5.9261e-02, -4.7637e-02,\n",
            "         -3.8666e-03,  7.0757e-02, -3.7580e-02,  7.4560e-02, -5.9840e-02,\n",
            "         -7.5842e-03,  3.4905e-02, -5.5563e-02, -7.3692e-02, -7.6558e-02,\n",
            "          6.4149e-03,  1.1188e-02,  2.3053e-02,  9.5771e-02,  4.1662e-03,\n",
            "         -9.4259e-02,  1.0969e-03,  2.0931e-02, -6.0240e-02,  3.3037e-02,\n",
            "         -9.6730e-02, -6.9068e-03, -7.3597e-02,  3.9025e-02,  2.5381e-02,\n",
            "          4.9348e-03,  9.3650e-02, -8.8587e-03,  1.0702e-02,  6.6130e-02,\n",
            "          5.1649e-02, -5.2607e-02, -3.4664e-02,  1.4870e-02, -6.9360e-02,\n",
            "         -1.7088e-02, -6.0648e-02,  6.1883e-02,  1.2398e-02,  1.2719e-02,\n",
            "          3.1482e-02,  6.0197e-02, -9.4209e-03, -9.3798e-02, -2.6348e-03,\n",
            "          3.1627e-02, -5.9106e-03,  7.7821e-02, -3.4662e-03, -3.7307e-02,\n",
            "         -4.3439e-02, -2.1174e-02, -3.7551e-02, -4.4951e-02,  8.6475e-02,\n",
            "          2.0217e-02, -5.0996e-03,  3.3747e-02, -6.6240e-02,  1.6140e-02,\n",
            "         -6.9471e-02, -9.2319e-02,  6.6391e-02, -3.9088e-02,  3.1101e-02,\n",
            "          5.0298e-02,  5.7087e-02, -3.0493e-02, -8.3257e-03, -1.7852e-02],\n",
            "        [-5.2239e-02,  3.3430e-02,  1.7397e-03,  7.2329e-02,  2.8932e-04,\n",
            "          7.9803e-02,  7.3083e-02,  2.8070e-02, -7.2393e-02,  4.9793e-02,\n",
            "         -4.0912e-02,  1.4873e-02, -3.4734e-02,  4.5550e-02,  6.8258e-02,\n",
            "         -3.7171e-02, -2.3759e-02, -5.5875e-02, -9.1331e-02, -4.9305e-02,\n",
            "          2.0663e-02, -7.2958e-02,  8.0763e-02, -1.9826e-02, -1.5389e-02,\n",
            "          6.4782e-02, -1.5542e-02, -4.3345e-03, -9.6211e-02,  5.5117e-02,\n",
            "          4.0965e-02, -5.4652e-02, -2.7160e-02,  2.1051e-02,  2.3909e-02,\n",
            "          5.8414e-02, -7.1049e-02,  7.4691e-02, -1.8788e-02,  9.0699e-02,\n",
            "          2.8530e-02,  3.7334e-02,  3.2124e-02, -1.5520e-02, -5.9557e-03,\n",
            "          4.2903e-02,  5.6071e-02,  4.5314e-02,  5.5919e-02,  9.7610e-02,\n",
            "          6.7021e-02,  2.7751e-02,  6.2243e-02, -4.5784e-02,  2.1306e-02,\n",
            "          8.7749e-02,  3.6339e-02, -4.6097e-02,  3.7628e-02, -6.5696e-02,\n",
            "         -5.0496e-03, -4.7826e-02,  9.0673e-02,  5.2606e-02, -5.6796e-02,\n",
            "         -7.4027e-02,  2.2080e-03, -7.5834e-02, -1.0514e-02, -3.3330e-02,\n",
            "          2.8972e-02, -4.6400e-02,  9.9840e-02, -7.5369e-02,  5.6596e-02,\n",
            "          1.7610e-02, -7.9787e-03, -4.1249e-02,  6.0259e-02, -2.2099e-02,\n",
            "         -5.2685e-02, -3.1561e-02, -4.7599e-02, -8.6594e-02,  4.2694e-02,\n",
            "          2.3939e-02, -6.6002e-02,  5.4100e-02,  2.6659e-02, -6.6836e-02,\n",
            "         -9.0830e-02, -3.1216e-04, -5.2779e-02, -8.7985e-02,  7.8835e-02,\n",
            "         -9.2926e-02,  1.7807e-02,  1.6704e-02,  6.8376e-02, -2.3954e-02],\n",
            "        [-4.1904e-02, -1.6087e-02,  8.3950e-02, -7.6520e-02, -5.4935e-02,\n",
            "         -7.7381e-02,  7.3813e-03,  4.5445e-02,  8.5889e-02,  8.4049e-02,\n",
            "          1.5400e-02, -3.1957e-02, -2.0267e-02,  8.5676e-02,  8.0354e-02,\n",
            "          4.4040e-02,  7.3440e-02,  6.6520e-02, -3.9911e-03, -6.5013e-03,\n",
            "          6.6507e-02, -7.1277e-04, -6.3452e-02, -8.2865e-02,  9.6407e-02,\n",
            "         -6.0672e-02,  8.8757e-02, -8.2663e-03, -8.9310e-02, -2.7946e-02,\n",
            "         -4.5905e-02,  2.9305e-02, -4.3734e-02, -9.3147e-02, -1.8818e-02,\n",
            "         -1.3969e-02, -1.6345e-02, -4.2980e-03, -7.5623e-02,  7.7010e-02,\n",
            "         -4.7740e-02,  2.6931e-02, -8.5861e-02,  3.1697e-02, -6.5370e-02,\n",
            "         -5.0147e-02, -1.4906e-02,  4.3301e-02,  7.9972e-02,  7.5668e-02,\n",
            "          3.2373e-02, -8.4139e-02, -5.6179e-02, -6.4667e-02,  7.2071e-02,\n",
            "         -4.4395e-03,  1.7946e-02,  3.0793e-02,  2.3408e-02,  3.2480e-02,\n",
            "         -8.6872e-02,  5.7017e-02, -7.6896e-02,  7.6255e-02,  8.2283e-02,\n",
            "          7.0840e-02, -2.7900e-02,  3.1130e-02,  9.3111e-02, -2.1274e-02,\n",
            "         -2.4301e-02, -2.9178e-02, -9.8029e-02, -3.7181e-02, -2.3143e-02,\n",
            "          5.2137e-03,  1.7603e-02,  4.9336e-02,  2.9102e-02, -5.6895e-02,\n",
            "          2.1196e-02, -5.4577e-02,  7.9545e-02,  8.4790e-02, -8.3067e-02,\n",
            "         -8.7612e-02, -2.1452e-02,  9.2113e-02, -6.4013e-02, -2.2198e-02,\n",
            "          5.5417e-02, -4.4156e-02, -5.0442e-02,  9.7345e-02, -9.7664e-02,\n",
            "         -9.9722e-02, -2.5305e-02,  6.0179e-02, -4.8028e-02, -5.2541e-02],\n",
            "        [-4.7970e-02,  9.1853e-02,  5.4700e-02,  6.4747e-02, -4.1706e-02,\n",
            "          9.0692e-02,  9.1099e-02,  8.2000e-02, -6.7249e-02, -3.3691e-02,\n",
            "         -6.5890e-03,  7.1860e-02, -7.9260e-02,  2.3563e-02,  9.7948e-02,\n",
            "         -4.0974e-02,  2.7025e-02,  9.2029e-02, -2.5295e-02, -2.3641e-02,\n",
            "         -7.8776e-02, -4.4755e-02,  9.6978e-02, -1.4825e-02, -3.4593e-02,\n",
            "          7.2466e-02,  9.7258e-02, -9.1258e-02, -1.4193e-02, -1.4972e-02,\n",
            "          1.5880e-02,  7.4209e-02,  7.6976e-02,  2.3345e-02,  4.9972e-02,\n",
            "          5.5340e-04,  1.0153e-02, -7.4481e-02, -1.2833e-02, -1.0131e-02,\n",
            "         -4.4410e-02, -1.8416e-02,  5.6072e-02, -2.1734e-02, -2.1311e-02,\n",
            "         -2.6026e-02, -8.3818e-02, -3.7440e-02, -8.7078e-02,  6.5278e-02,\n",
            "         -5.3469e-02,  3.5298e-03,  5.7023e-03, -5.6548e-02, -9.4980e-02,\n",
            "          1.0675e-02,  3.5626e-02,  9.0792e-02, -2.0259e-02,  1.1257e-02,\n",
            "         -7.9291e-02, -2.9818e-03, -2.4540e-02, -4.0005e-02, -1.2225e-02,\n",
            "          9.9208e-02, -2.1518e-02,  5.3834e-02,  5.7292e-03,  2.2720e-02,\n",
            "         -8.3834e-02, -3.1453e-02,  7.3717e-02, -8.3512e-02, -9.1236e-02,\n",
            "          4.9209e-02,  4.2785e-02,  4.3604e-02, -8.7143e-02,  4.1969e-02,\n",
            "         -4.9230e-02, -7.8819e-02,  8.9407e-02, -5.0380e-03,  3.5836e-02,\n",
            "          7.7055e-02, -5.7799e-04,  8.8193e-03, -2.5679e-02, -4.6244e-02,\n",
            "          9.6490e-02, -6.7351e-03, -8.5277e-02, -6.2464e-02,  9.0049e-02,\n",
            "          6.6209e-02,  5.0106e-02,  9.8208e-04, -6.3247e-03, -5.8381e-02],\n",
            "        [-4.0766e-02, -6.2088e-02, -5.2126e-03, -8.9483e-02, -7.9143e-02,\n",
            "          9.8533e-02,  5.0122e-02,  3.3438e-02,  6.6670e-02,  2.3644e-02,\n",
            "          9.2573e-02, -8.8153e-02,  7.9725e-02,  5.8018e-02,  8.1761e-02,\n",
            "         -2.0709e-02, -9.8219e-02,  5.8676e-02, -8.0756e-02, -9.1778e-02,\n",
            "         -4.6397e-02, -3.9485e-02, -3.0375e-02,  7.2412e-02,  8.8031e-02,\n",
            "         -5.2601e-02, -2.9464e-02,  7.0881e-02,  3.2056e-02,  7.2448e-02,\n",
            "          5.0748e-02, -9.0808e-02, -9.2140e-02,  8.1812e-02, -9.9047e-02,\n",
            "          2.9117e-02, -2.3615e-02, -4.8579e-03,  6.0446e-02,  4.2846e-02,\n",
            "         -2.3163e-02, -3.6044e-02, -5.7452e-02,  5.2475e-03, -1.6269e-02,\n",
            "         -5.1795e-02,  5.9448e-02,  5.6562e-02, -6.5982e-02,  7.6247e-02,\n",
            "         -8.4012e-02,  4.0589e-02, -9.5024e-02,  7.8534e-02,  7.1841e-04,\n",
            "         -5.2256e-02, -1.4144e-02, -6.8831e-02, -2.0508e-02,  2.3449e-02,\n",
            "          5.2374e-02,  2.8297e-02,  8.5649e-02,  8.3683e-02, -1.8155e-02,\n",
            "         -1.6162e-02,  6.4689e-02, -9.9178e-02,  2.7574e-02, -1.6113e-02,\n",
            "         -3.6550e-03,  2.6677e-02,  8.4854e-02,  4.2691e-02, -4.8965e-02,\n",
            "         -8.3690e-02,  5.9335e-03,  8.6382e-03,  8.7622e-02,  6.5526e-02,\n",
            "          3.3238e-02,  7.1143e-02, -9.2637e-03, -6.3607e-02,  6.9054e-02,\n",
            "         -6.5825e-03, -2.3751e-02, -4.7721e-02,  6.6874e-02,  9.7821e-02,\n",
            "          4.1910e-03,  5.9568e-02,  9.0731e-04,  2.2254e-02, -6.4442e-03,\n",
            "          1.7379e-02, -8.1463e-02, -2.1117e-02, -4.6600e-02,  5.2615e-02],\n",
            "        [-2.8138e-03,  2.3915e-02,  9.2719e-02,  5.6406e-02, -8.4818e-02,\n",
            "          4.7233e-02, -4.3172e-02, -9.6802e-02, -2.2284e-02,  6.7995e-02,\n",
            "         -8.9708e-02,  9.7404e-02,  7.7562e-03,  1.4985e-02, -1.9237e-02,\n",
            "         -7.9229e-02,  8.2860e-02,  1.2312e-02,  1.8217e-02, -9.5211e-02,\n",
            "          5.3153e-03,  5.3059e-02,  3.3425e-03, -5.1042e-02,  6.7025e-02,\n",
            "          8.5917e-02,  9.5887e-03,  2.6062e-02,  6.1277e-02,  3.3496e-02,\n",
            "         -7.4195e-02, -8.3627e-02, -1.3111e-02, -6.8316e-02, -5.8224e-02,\n",
            "          8.1322e-02, -6.9041e-02,  3.4567e-02, -9.0189e-02, -5.0951e-02,\n",
            "          4.0243e-02, -3.5379e-02, -3.2022e-02, -9.2759e-02, -5.8057e-02,\n",
            "         -2.9702e-02, -3.4923e-02,  2.2045e-02, -7.7664e-02, -9.0523e-02,\n",
            "         -1.1377e-02, -9.2789e-02,  8.9045e-02, -7.5652e-02,  5.8144e-02,\n",
            "         -1.5557e-02, -3.8810e-02, -4.0962e-02, -2.3206e-02,  3.4994e-02,\n",
            "         -3.8703e-02,  8.1884e-02,  3.0808e-02, -4.7300e-02,  2.7375e-03,\n",
            "         -5.0144e-02, -5.6838e-02,  7.8597e-02,  1.1258e-02,  6.9023e-02,\n",
            "          7.7285e-02, -8.0982e-02, -6.2120e-02, -7.2197e-02, -1.6199e-02,\n",
            "         -6.2847e-02, -9.3273e-02,  3.6875e-02, -8.5906e-02, -4.0440e-02,\n",
            "          3.9687e-02, -1.4908e-02,  9.0467e-02,  8.5589e-02,  6.0143e-02,\n",
            "          2.9697e-03, -1.6056e-02,  3.6689e-03,  2.6796e-02,  9.5778e-02,\n",
            "          9.7710e-02, -7.4908e-02, -7.3042e-02, -4.0170e-02, -4.9782e-02,\n",
            "          3.4628e-03, -8.9148e-03, -1.3734e-02,  3.3798e-02,  4.0098e-02],\n",
            "        [ 5.1593e-02,  4.6979e-02,  2.2670e-02,  8.6727e-02,  2.3507e-02,\n",
            "         -8.0916e-02,  4.1579e-06, -4.4443e-02,  1.9886e-02,  9.3035e-02,\n",
            "          9.5937e-02,  8.8501e-02,  7.1945e-02, -2.0344e-02,  6.8420e-02,\n",
            "          4.7058e-02, -7.0152e-02,  9.2162e-02,  3.6528e-02,  6.7431e-02,\n",
            "          3.4665e-02, -9.0081e-02,  2.0248e-02, -3.2738e-02, -5.6818e-02,\n",
            "          4.3928e-02, -2.7184e-02,  7.5025e-02, -9.8484e-02, -3.6945e-02,\n",
            "         -3.3133e-02,  5.0827e-02, -9.5225e-02, -6.1817e-02,  6.5671e-02,\n",
            "          6.1785e-02, -4.9584e-02,  3.6409e-02,  3.4480e-02,  7.9504e-02,\n",
            "         -8.6637e-02,  3.4496e-02,  5.8505e-02,  1.3074e-02,  3.0559e-02,\n",
            "          6.1228e-02, -7.4995e-02,  4.0520e-02, -9.7295e-03, -5.5584e-02,\n",
            "         -9.7755e-02,  2.7132e-02,  3.0756e-04, -1.9452e-02,  1.6129e-02,\n",
            "          3.1778e-02, -5.2675e-02,  2.8075e-02,  5.1350e-03,  3.7206e-02,\n",
            "         -3.0925e-02, -6.0947e-02, -4.8699e-02, -1.3770e-02,  7.0344e-02,\n",
            "         -9.0613e-02, -4.6104e-02, -3.4764e-02,  1.1176e-02,  4.5347e-03,\n",
            "         -4.8572e-02,  7.9391e-02, -3.9597e-02, -5.5739e-02, -8.9594e-03,\n",
            "         -6.0353e-02,  8.9182e-02, -7.6899e-02,  1.5246e-02, -9.6539e-02,\n",
            "          1.9201e-04, -7.3679e-02, -4.7666e-02, -4.5717e-02,  7.2486e-02,\n",
            "         -3.5401e-02,  8.1998e-02,  8.8712e-02, -7.9520e-02, -6.2945e-02,\n",
            "          6.2865e-02,  2.8061e-02,  5.6312e-02,  5.4560e-02, -8.6458e-02,\n",
            "          8.7163e-02,  1.9386e-02, -8.4476e-02, -8.7829e-02,  6.3002e-02],\n",
            "        [ 4.9412e-02, -6.9493e-02,  9.3181e-02,  9.2514e-02, -9.8589e-02,\n",
            "          6.9614e-02,  7.1351e-02, -3.9743e-02,  3.7269e-02, -9.0228e-04,\n",
            "          8.6575e-03, -8.9273e-02,  6.8711e-02,  3.6440e-02, -4.6463e-02,\n",
            "         -2.7197e-02,  4.3763e-02,  2.6102e-02,  3.4066e-05, -7.2000e-02,\n",
            "          3.7456e-02, -5.4938e-02,  2.4076e-02,  5.0842e-03, -5.8283e-02,\n",
            "         -7.9105e-03,  8.5887e-02, -1.8852e-03, -7.2226e-02, -5.4893e-02,\n",
            "         -9.1885e-02,  2.5279e-02,  2.7660e-02,  2.6614e-02,  4.9125e-02,\n",
            "          2.7193e-02, -9.0044e-02,  8.0405e-02, -2.2356e-02,  8.8890e-03,\n",
            "         -8.1252e-02,  2.8335e-02, -9.7423e-02, -7.6503e-02,  9.5759e-02,\n",
            "         -1.1890e-03, -7.5552e-02, -9.1003e-02,  8.9153e-02,  8.3655e-02,\n",
            "         -4.0909e-02, -4.4584e-02, -2.0057e-02, -7.3384e-02,  2.6375e-02,\n",
            "         -1.3264e-02,  6.0565e-02, -5.7893e-02, -1.6857e-02, -8.7141e-02,\n",
            "         -3.6039e-02,  5.4035e-04, -8.0571e-02, -8.9675e-02,  2.1370e-02,\n",
            "          7.4737e-02, -9.2056e-03,  7.8508e-02,  2.1161e-02, -2.8023e-02,\n",
            "         -8.8298e-02, -9.5041e-02, -2.1727e-02, -8.9894e-02,  6.8868e-02,\n",
            "         -1.2425e-02, -8.7824e-02, -9.6635e-02,  2.9001e-02, -8.0822e-03,\n",
            "          4.0600e-02, -4.4011e-02, -4.9277e-02, -1.7376e-02,  3.1031e-02,\n",
            "          8.5206e-02, -4.8650e-03,  5.6619e-02,  3.6806e-02, -3.6765e-02,\n",
            "          4.1646e-02, -5.0838e-02,  9.8831e-02, -8.9997e-02, -8.8804e-02,\n",
            "         -3.4879e-02, -9.6428e-03, -2.0756e-02, -4.2918e-02,  9.4817e-02]])), ('layer_stack.4.bias', tensor([ 0.0388,  0.0116, -0.0695, -0.0321,  0.0881, -0.0007,  0.0272,  0.0981,\n",
            "        -0.0500,  0.0616]))])\n"
          ]
        }
      ]
    },
    {
      "cell_type": "code",
      "source": [
        "def accuracy_fn(y_pred, y_true):\n",
        "  correct_num = (y_pred == y_true).sum()\n",
        "  acc = correct_num / len(y_true) *100\n",
        "  return acc"
      ],
      "metadata": {
        "id": "nqI5lx89qgrb"
      },
      "execution_count": null,
      "outputs": []
    },
    {
      "cell_type": "code",
      "source": [
        "device = 'cuda' if torch.cuda.is_available() else \"cpu\"\n",
        "model.to(device)"
      ],
      "metadata": {
        "colab": {
          "base_uri": "https://localhost:8080/",
          "height": 184
        },
        "id": "dhQ-tfGRtd3T",
        "outputId": "44b835a5-9053-4f0b-aeb1-47b229d75575"
      },
      "execution_count": null,
      "outputs": [
        {
          "output_type": "error",
          "ename": "NameError",
          "evalue": "ignored",
          "traceback": [
            "\u001b[0;31m---------------------------------------------------------------------------\u001b[0m",
            "\u001b[0;31mNameError\u001b[0m                                 Traceback (most recent call last)",
            "\u001b[0;32m<ipython-input-5-2709561c07c8>\u001b[0m in \u001b[0;36m<cell line: 2>\u001b[0;34m()\u001b[0m\n\u001b[1;32m      1\u001b[0m \u001b[0mdevice\u001b[0m \u001b[0;34m=\u001b[0m \u001b[0;34m'cuda'\u001b[0m \u001b[0;32mif\u001b[0m \u001b[0mtorch\u001b[0m\u001b[0;34m.\u001b[0m\u001b[0mcuda\u001b[0m\u001b[0;34m.\u001b[0m\u001b[0mis_available\u001b[0m\u001b[0;34m(\u001b[0m\u001b[0;34m)\u001b[0m \u001b[0;32melse\u001b[0m \u001b[0;34m\"cpu\"\u001b[0m\u001b[0;34m\u001b[0m\u001b[0;34m\u001b[0m\u001b[0m\n\u001b[0;32m----> 2\u001b[0;31m \u001b[0mmodel\u001b[0m\u001b[0;34m.\u001b[0m\u001b[0mto\u001b[0m\u001b[0;34m(\u001b[0m\u001b[0mdevice\u001b[0m\u001b[0;34m)\u001b[0m\u001b[0;34m\u001b[0m\u001b[0;34m\u001b[0m\u001b[0m\n\u001b[0m",
            "\u001b[0;31mNameError\u001b[0m: name 'model' is not defined"
          ]
        }
      ]
    },
    {
      "cell_type": "code",
      "source": [
        "def train_step(dataloader,model,cost_fn,optimizer,accuracy_fn, device):\n",
        "  train_cost = 0\n",
        "  train_acc = 0\n",
        "  for batch, (x,y) in enumerate(dataloader):\n",
        "    x = x.to(device)\n",
        "    y = y.to(device)\n",
        "    lambda_reg = 0.3\n",
        "\n",
        "    model.train()\n",
        "\n",
        "    y_pred = model(x)\n",
        "    cost = cost_fn(y_pred, y)\n",
        "    train_cost += cost\n",
        "    train_acc += accuracy_fn(y_pred.argmax(dim=1),y)\n",
        "\n",
        "    optimizer.zero_grad()\n",
        "\n",
        "    '''\n",
        "    reg_loss = 0\n",
        "    for param in model.parameters():\n",
        "        reg_loss += torch.norm(param, p=2)/len(x)  # 使用 L2 正則化\n",
        "    cost += lambda_reg * reg_loss\n",
        "    '''\n",
        "\n",
        "    cost.backward()\n",
        "    optimizer.step()\n",
        "\n",
        "  train_cost /= len(train_dataloader)\n",
        "  train_acc /= len(train_dataloader)\n",
        "\n",
        "  print(f\"Train Cost: {train_cost:.4f},Train Acc: {train_acc:.2f} \")\n",
        "  return train_cost"
      ],
      "metadata": {
        "id": "ym0nTMcCu-AB"
      },
      "execution_count": null,
      "outputs": []
    },
    {
      "cell_type": "code",
      "source": [
        "def test_step(dataloader,model,cost_fn,accuracy_fn, device):\n",
        "  test_cost = 0\n",
        "  test_acc = 0\n",
        "  model.eval()\n",
        "  with torch.inference_mode():\n",
        "    for x, y in dataloader:\n",
        "      x = x.to(device)\n",
        "      y = y.to(device)\n",
        "      test_pred = model(x)\n",
        "      test_cost += cost_fn(test_pred, y)\n",
        "      test_acc += accuracy_fn(test_pred.argmax(dim=1),y)\n",
        "\n",
        "    test_cost /= len(test_dataloader)\n",
        "    test_acc /= len(test_dataloader)\n",
        "  print(f\"Test Cost: {test_cost:.4f},Test Acc: {test_acc:.2f}\\n \")\n",
        "  return test_cost"
      ],
      "metadata": {
        "id": "Huu9k-CVv7VF"
      },
      "execution_count": null,
      "outputs": []
    },
    {
      "cell_type": "code",
      "source": [
        "test_cost_hist =[]"
      ],
      "metadata": {
        "id": "SsrTZmchnWav"
      },
      "execution_count": null,
      "outputs": []
    },
    {
      "cell_type": "code",
      "source": [
        "from tqdm.auto import tqdm\n",
        "\n",
        "train_cost_hist =[]\n",
        "test_cost_hist =[]\n",
        "\n",
        "epochs =3\n",
        "for epoch in tqdm(range(epochs)):\n",
        "  print(f\"Epoch: {epoch}\\n---------\")\n",
        "\n",
        "  train_cost = train_step(train_dataloader,model,cost_fn,optimizer,accuracy_fn, device)\n",
        "  test_cost = test_step(test_dataloader,model,cost_fn,accuracy_fn, device)\n",
        "  train_cost = train_cost.cpu()\n",
        "  test_cost = test_cost.cpu()\n",
        "  train_cost_hist.append(train_cost.detach().numpy())\n",
        "  test_cost_hist.append(test_cost.detach().numpy())"
      ],
      "metadata": {
        "colab": {
          "base_uri": "https://localhost:8080/",
          "height": 466,
          "referenced_widgets": [
            "a7c5a7fc9a7e4ce4bc8727389256f1e4",
            "9eea40bb1294476cb8915476603e1b7e",
            "bb23b7f97c984db6952a9b99183738f4",
            "4747be05cc0848449c8fd1adcbe7b7f9",
            "cf02ecdc7641445582b80eb049c3a9f7",
            "79f005c1fb92447da5431a06b616aad5",
            "194b106d507c4b079def769cd4d87444",
            "ed4d14abee2e43caa256ae48619442f8",
            "6d3e6485640e44a08887bb58a55280dd",
            "506825e10f5640fd871435d5d3451fa0",
            "25cd4f0445ca478bb416d3f77f6ab8f8"
          ]
        },
        "id": "qeUM91WIlZ3R",
        "outputId": "46954dac-c997-4e0c-9e45-6bc87d8ba5f3"
      },
      "execution_count": null,
      "outputs": [
        {
          "output_type": "display_data",
          "data": {
            "text/plain": [
              "  0%|          | 0/3 [00:00<?, ?it/s]"
            ],
            "application/vnd.jupyter.widget-view+json": {
              "version_major": 2,
              "version_minor": 0,
              "model_id": "a7c5a7fc9a7e4ce4bc8727389256f1e4"
            }
          },
          "metadata": {}
        },
        {
          "output_type": "stream",
          "name": "stdout",
          "text": [
            "Epoch: 0\n",
            "---------\n"
          ]
        },
        {
          "output_type": "error",
          "ename": "KeyboardInterrupt",
          "evalue": "ignored",
          "traceback": [
            "\u001b[0;31m---------------------------------------------------------------------------\u001b[0m",
            "\u001b[0;31mKeyboardInterrupt\u001b[0m                         Traceback (most recent call last)",
            "\u001b[0;32m<ipython-input-221-6af2df4002a1>\u001b[0m in \u001b[0;36m<cell line: 7>\u001b[0;34m()\u001b[0m\n\u001b[1;32m      8\u001b[0m   \u001b[0mprint\u001b[0m\u001b[0;34m(\u001b[0m\u001b[0;34mf\"Epoch: {epoch}\\n---------\"\u001b[0m\u001b[0;34m)\u001b[0m\u001b[0;34m\u001b[0m\u001b[0;34m\u001b[0m\u001b[0m\n\u001b[1;32m      9\u001b[0m \u001b[0;34m\u001b[0m\u001b[0m\n\u001b[0;32m---> 10\u001b[0;31m   \u001b[0mtrain_cost\u001b[0m \u001b[0;34m=\u001b[0m \u001b[0mtrain_step\u001b[0m\u001b[0;34m(\u001b[0m\u001b[0mtrain_dataloader\u001b[0m\u001b[0;34m,\u001b[0m\u001b[0mmodel\u001b[0m\u001b[0;34m,\u001b[0m\u001b[0mcost_fn\u001b[0m\u001b[0;34m,\u001b[0m\u001b[0moptimizer\u001b[0m\u001b[0;34m,\u001b[0m\u001b[0maccuracy_fn\u001b[0m\u001b[0;34m,\u001b[0m \u001b[0mdevice\u001b[0m\u001b[0;34m)\u001b[0m\u001b[0;34m\u001b[0m\u001b[0;34m\u001b[0m\u001b[0m\n\u001b[0m\u001b[1;32m     11\u001b[0m   \u001b[0mtest_cost\u001b[0m \u001b[0;34m=\u001b[0m \u001b[0mtest_step\u001b[0m\u001b[0;34m(\u001b[0m\u001b[0mtest_dataloader\u001b[0m\u001b[0;34m,\u001b[0m\u001b[0mmodel\u001b[0m\u001b[0;34m,\u001b[0m\u001b[0mcost_fn\u001b[0m\u001b[0;34m,\u001b[0m\u001b[0maccuracy_fn\u001b[0m\u001b[0;34m,\u001b[0m \u001b[0mdevice\u001b[0m\u001b[0;34m)\u001b[0m\u001b[0;34m\u001b[0m\u001b[0;34m\u001b[0m\u001b[0m\n\u001b[1;32m     12\u001b[0m   \u001b[0mtrain_cost\u001b[0m \u001b[0;34m=\u001b[0m \u001b[0mtrain_cost\u001b[0m\u001b[0;34m.\u001b[0m\u001b[0mcpu\u001b[0m\u001b[0;34m(\u001b[0m\u001b[0;34m)\u001b[0m\u001b[0;34m\u001b[0m\u001b[0;34m\u001b[0m\u001b[0m\n",
            "\u001b[0;32m<ipython-input-218-d05516153a8d>\u001b[0m in \u001b[0;36mtrain_step\u001b[0;34m(dataloader, model, cost_fn, optimizer, accuracy_fn, device)\u001b[0m\n\u001b[1;32m     23\u001b[0m \u001b[0;34m\u001b[0m\u001b[0m\n\u001b[1;32m     24\u001b[0m \u001b[0;34m\u001b[0m\u001b[0m\n\u001b[0;32m---> 25\u001b[0;31m     \u001b[0mcost\u001b[0m\u001b[0;34m.\u001b[0m\u001b[0mbackward\u001b[0m\u001b[0;34m(\u001b[0m\u001b[0;34m)\u001b[0m\u001b[0;34m\u001b[0m\u001b[0;34m\u001b[0m\u001b[0m\n\u001b[0m\u001b[1;32m     26\u001b[0m     \u001b[0moptimizer\u001b[0m\u001b[0;34m.\u001b[0m\u001b[0mstep\u001b[0m\u001b[0;34m(\u001b[0m\u001b[0;34m)\u001b[0m\u001b[0;34m\u001b[0m\u001b[0;34m\u001b[0m\u001b[0m\n\u001b[1;32m     27\u001b[0m \u001b[0;34m\u001b[0m\u001b[0m\n",
            "\u001b[0;32m/usr/local/lib/python3.10/dist-packages/torch/_tensor.py\u001b[0m in \u001b[0;36mbackward\u001b[0;34m(self, gradient, retain_graph, create_graph, inputs)\u001b[0m\n\u001b[1;32m    485\u001b[0m                 \u001b[0minputs\u001b[0m\u001b[0;34m=\u001b[0m\u001b[0minputs\u001b[0m\u001b[0;34m,\u001b[0m\u001b[0;34m\u001b[0m\u001b[0;34m\u001b[0m\u001b[0m\n\u001b[1;32m    486\u001b[0m             )\n\u001b[0;32m--> 487\u001b[0;31m         torch.autograd.backward(\n\u001b[0m\u001b[1;32m    488\u001b[0m             \u001b[0mself\u001b[0m\u001b[0;34m,\u001b[0m \u001b[0mgradient\u001b[0m\u001b[0;34m,\u001b[0m \u001b[0mretain_graph\u001b[0m\u001b[0;34m,\u001b[0m \u001b[0mcreate_graph\u001b[0m\u001b[0;34m,\u001b[0m \u001b[0minputs\u001b[0m\u001b[0;34m=\u001b[0m\u001b[0minputs\u001b[0m\u001b[0;34m\u001b[0m\u001b[0;34m\u001b[0m\u001b[0m\n\u001b[1;32m    489\u001b[0m         )\n",
            "\u001b[0;32m/usr/local/lib/python3.10/dist-packages/torch/autograd/__init__.py\u001b[0m in \u001b[0;36mbackward\u001b[0;34m(tensors, grad_tensors, retain_graph, create_graph, grad_variables, inputs)\u001b[0m\n\u001b[1;32m    198\u001b[0m     \u001b[0;31m# some Python versions print out the first line of a multi-line function\u001b[0m\u001b[0;34m\u001b[0m\u001b[0;34m\u001b[0m\u001b[0m\n\u001b[1;32m    199\u001b[0m     \u001b[0;31m# calls in the traceback and some print out the last line\u001b[0m\u001b[0;34m\u001b[0m\u001b[0;34m\u001b[0m\u001b[0m\n\u001b[0;32m--> 200\u001b[0;31m     Variable._execution_engine.run_backward(  # Calls into the C++ engine to run the backward pass\n\u001b[0m\u001b[1;32m    201\u001b[0m         \u001b[0mtensors\u001b[0m\u001b[0;34m,\u001b[0m \u001b[0mgrad_tensors_\u001b[0m\u001b[0;34m,\u001b[0m \u001b[0mretain_graph\u001b[0m\u001b[0;34m,\u001b[0m \u001b[0mcreate_graph\u001b[0m\u001b[0;34m,\u001b[0m \u001b[0minputs\u001b[0m\u001b[0;34m,\u001b[0m\u001b[0;34m\u001b[0m\u001b[0;34m\u001b[0m\u001b[0m\n\u001b[1;32m    202\u001b[0m         allow_unreachable=True, accumulate_grad=True)  # Calls into the C++ engine to run the backward pass\n",
            "\u001b[0;31mKeyboardInterrupt\u001b[0m: "
          ]
        }
      ]
    },
    {
      "cell_type": "code",
      "source": [
        "test_cost_hist"
      ],
      "metadata": {
        "id": "XMvj1mZcnIi_"
      },
      "execution_count": null,
      "outputs": []
    },
    {
      "cell_type": "code",
      "source": [
        "len(test_cost_hist)"
      ],
      "metadata": {
        "id": "Isa_fXmPi6KH"
      },
      "execution_count": null,
      "outputs": []
    },
    {
      "cell_type": "code",
      "source": [
        "train_cost_hist"
      ],
      "metadata": {
        "id": "qXFeRQLZh7Zh"
      },
      "execution_count": null,
      "outputs": []
    },
    {
      "cell_type": "code",
      "source": [
        "plt.plot(range(0,len(train_cost_hist)),train_cost_hist,label='train_cost')\n",
        "plt.plot(range(0,len(test_cost_hist)),test_cost_hist,label='test_cost')\n",
        "plt.legend()\n"
      ],
      "metadata": {
        "id": "2aMMtXfygTwJ"
      },
      "execution_count": null,
      "outputs": []
    },
    {
      "cell_type": "code",
      "source": [
        "model.__class__.__name__"
      ],
      "metadata": {
        "id": "9LZMfBefb0Nv"
      },
      "execution_count": null,
      "outputs": []
    },
    {
      "cell_type": "code",
      "source": [
        "def eval_model(dataloader, model, cost_fn, accuracy_fn, device):\n",
        "  test_cost = 0\n",
        "  test_acc = 0\n",
        "  model.eval()\n",
        "  with torch.inference_mode():\n",
        "    for x, y in dataloader:\n",
        "      x = x.to(device)\n",
        "      y = y.to(device)\n",
        "      test_pred = model(x)\n",
        "      test_cost += cost_fn(test_pred, y)\n",
        "      test_acc += accuracy_fn(test_pred.argmax(dim=1),y)\n",
        "\n",
        "    test_cost /= len(test_dataloader)\n",
        "    test_acc /= len(test_dataloader)\n",
        "  return {\n",
        "      \"model_name\":model.__class__.__name__,\n",
        "      \"model_cost\":test_cost.item(),\n",
        "      \"model_acc\":test_acc.item()\n",
        "  }\n"
      ],
      "metadata": {
        "id": "xrvVvROQbafD"
      },
      "execution_count": null,
      "outputs": []
    },
    {
      "cell_type": "code",
      "source": [
        "model_result = eval_model(test_dataloader, model, cost_fn, accuracy_fn, device)\n",
        "model_result"
      ],
      "metadata": {
        "id": "f56WBVOUcRT-"
      },
      "execution_count": null,
      "outputs": []
    },
    {
      "cell_type": "code",
      "source": [
        "torch.save(obj=model.state_dict(), f=\"model/pytorch_linear_regression_2.pth\")\n",
        "model.state_dict()"
      ],
      "metadata": {
        "id": "OmyRNwOgdt8V"
      },
      "execution_count": null,
      "outputs": []
    },
    {
      "cell_type": "code",
      "source": [
        "model2 = ImageClassificationModel(28*28,10)\n",
        "\n",
        "model2.load_state_dict(torch.load(f=\"model/pytorch_linear_regression_2.pth\"))\n",
        "model2.state_dict()"
      ],
      "metadata": {
        "id": "6HX2E95FeB4D"
      },
      "execution_count": null,
      "outputs": []
    },
    {
      "cell_type": "code",
      "source": [
        "model2_result = eval_model(test_dataloader, model2, cost_fn, accuracy_fn, device)\n",
        "model2_result"
      ],
      "metadata": {
        "id": "_ftogTm1eqjn"
      },
      "execution_count": null,
      "outputs": []
    },
    {
      "cell_type": "code",
      "source": [
        "x_first_batch[0].shape"
      ],
      "metadata": {
        "id": "oCaKGjpn2kym"
      },
      "execution_count": null,
      "outputs": []
    },
    {
      "cell_type": "code",
      "source": [
        "conv_layer = nn.Conv2d(in_channels=1, out_channels=5,kernel_size=(3,3), stride=1, padding=1)\n",
        "x = conv_layer(x_first_batch[0])\n",
        "print(x.shape)\n",
        "maxpool = nn.MaxPool2d(kernel_size=(2,2), stride=2, padding=0)\n",
        "maxpool(x).shape"
      ],
      "metadata": {
        "id": "YBctggAzp_zr"
      },
      "execution_count": null,
      "outputs": []
    },
    {
      "cell_type": "code",
      "source": [
        "#nn.BatchNorm2d(32)  # 添加批归一化层\n",
        "\n",
        "class ImageClassificationModel3(nn.Module):\n",
        "  def __init__(self,input_shape, output_shape):\n",
        "    super().__init__()\n",
        "    self.conv_block_1 = nn.Sequential(\n",
        "        nn.Conv2d(in_channels=input_shape, out_channels=8,kernel_size=(3,3), stride=1, padding=1),\n",
        "        nn.ReLU(),\n",
        "        #nn.Dropout(p=0.3),\n",
        "        nn.Conv2d(in_channels=8, out_channels=8,kernel_size=(3,3), stride=1, padding=1),\n",
        "        nn.ReLU(),\n",
        "        nn.MaxPool2d(kernel_size=(2,2), stride=2, padding=0))\n",
        "    self.conv_block_2 = nn.Sequential(\n",
        "        nn.Conv2d(in_channels=8, out_channels=16,kernel_size=(3,3), stride=1, padding=1),\n",
        "        nn.ReLU(),\n",
        "        nn.Conv2d(in_channels=16, out_channels=16,kernel_size=(3,3), stride=1, padding=1),\n",
        "        nn.ReLU(),\n",
        "        nn.MaxPool2d(kernel_size=(2,2), stride=2, padding=0))\n",
        "    self.classifier = nn.Sequential(\n",
        "        nn.Flatten(start_dim=1,end_dim=-1),\n",
        "        nn.Linear(in_features=16*7*7, out_features=output_shape))\n",
        "\n",
        "  def forward(self, x):\n",
        "    x = self.conv_block_1(x)\n",
        "    x = self.conv_block_2(x)\n",
        "    x = self.classifier(x)\n",
        "    return x"
      ],
      "metadata": {
        "id": "ghEGkEkBxIyH"
      },
      "execution_count": null,
      "outputs": []
    },
    {
      "cell_type": "code",
      "source": [
        "model_3 = ImageClassificationModel3(1, 10)\n",
        "model_3.to(device)\n",
        "cost_fn = nn.CrossEntropyLoss()\n",
        "optimizer = torch.optim.Adam(params=model_3.parameters(), lr=0.01)"
      ],
      "metadata": {
        "id": "ApDbsYIO2ZOn"
      },
      "execution_count": null,
      "outputs": []
    },
    {
      "cell_type": "code",
      "source": [
        "from tqdm.auto import tqdm\n",
        "\n",
        "train_cost_hist =[]\n",
        "test_cost_hist =[]\n",
        "\n",
        "epochs =20\n",
        "for epoch in tqdm(range(epochs)):\n",
        "  print(f\"Epoch: {epoch}\\n---------\")\n",
        "\n",
        "  train_cost = train_step(train_dataloader,model_3,cost_fn,optimizer,accuracy_fn, device)\n",
        "  test_cost = test_step(test_dataloader,model_3,cost_fn,accuracy_fn, device)\n",
        "  train_cost = train_cost.cpu()\n",
        "  test_cost = test_cost.cpu()\n",
        "  train_cost_hist.append(train_cost.detach().numpy())\n",
        "  test_cost_hist.append(test_cost.detach().numpy())"
      ],
      "metadata": {
        "colab": {
          "base_uri": "https://localhost:8080/",
          "height": 275,
          "referenced_widgets": [
            "69a1adbe507945009d4be5de00ff918e",
            "a3f5e207dfa146adb5f41346aba097ec",
            "b86f5fd7a219447e8bcda99a8bc15739",
            "a8576ff06c534de7896bc3c035bff665",
            "893d3100659b41fb84f23bf3caf4c8ac",
            "b804b5109d2a4714af9ac949f08ae1a4",
            "39cfb6e2b22d4fbfbc60a175e06f5e15",
            "c78df8c98cb54d66a15889c6283a5b4a",
            "7cdcef24885e4aa08fdb79b96f016adc",
            "7854dc4277904295923a677f6ac2a138",
            "25e130ab44f84210a8075669f4719160"
          ]
        },
        "id": "ACYTo5ZS2b6A",
        "outputId": "283d84db-c6b0-4e32-d71f-a2fe97447935"
      },
      "execution_count": null,
      "outputs": [
        {
          "output_type": "display_data",
          "data": {
            "text/plain": [
              "  0%|          | 0/20 [00:00<?, ?it/s]"
            ],
            "application/vnd.jupyter.widget-view+json": {
              "version_major": 2,
              "version_minor": 0,
              "model_id": "69a1adbe507945009d4be5de00ff918e"
            }
          },
          "metadata": {}
        },
        {
          "output_type": "stream",
          "name": "stdout",
          "text": [
            "Epoch: 0\n",
            "---------\n",
            "Train Cost: 0.4986,Train Acc: 81.89 \n",
            "Test Cost: 0.4293,Test Acc: 84.48\n",
            " \n",
            "Epoch: 1\n",
            "---------\n",
            "Train Cost: 0.4045,Train Acc: 85.45 \n",
            "Test Cost: 0.3972,Test Acc: 85.81\n",
            " \n",
            "Epoch: 2\n",
            "---------\n",
            "Train Cost: 0.3924,Train Acc: 85.86 \n"
          ]
        }
      ]
    },
    {
      "cell_type": "code",
      "source": [
        "x= train_data[10][0]\n",
        "x_first_batch = x_first_batch.to(device)\n",
        "x = torch.unsqueeze(x_first_batch[0], 0)\n",
        "\n",
        "model_3(x),x.shape,x_first_batch[0].shape"
      ],
      "metadata": {
        "id": "2ysNt5fYbVwK"
      },
      "execution_count": null,
      "outputs": []
    },
    {
      "cell_type": "code",
      "source": [
        "import matplotlib.pyplot as plt\n",
        "\n",
        "plt.plot(range(0,len(train_cost_hist)),train_cost_hist,label='train_cost')\n",
        "plt.plot(range(0,len(test_cost_hist)),test_cost_hist,label='test_cost')\n",
        "plt.legend()\n"
      ],
      "metadata": {
        "colab": {
          "base_uri": "https://localhost:8080/",
          "height": 447
        },
        "id": "Hr9kdDRC3ucP",
        "outputId": "71174729-a2e8-4878-c3ac-cb59a8c19f10"
      },
      "execution_count": null,
      "outputs": [
        {
          "output_type": "execute_result",
          "data": {
            "text/plain": [
              "<matplotlib.legend.Legend at 0x7f5d6f8902b0>"
            ]
          },
          "metadata": {},
          "execution_count": 14
        },
        {
          "output_type": "display_data",
          "data": {
            "text/plain": [
              "<Figure size 640x480 with 1 Axes>"
            ],
            "image/png": "[encoded data removed]"
          },
          "metadata": {}
        }
      ]
    },
    {
      "cell_type": "code",
      "source": [
        "'''\n",
        "自定義資料隨機打亂順序\n",
        "permutation = np.random.permutation(train_array.shape[0])\n",
        "shuffled_train_array = train_array[permutation]\n",
        "shuffled_train_label = np.array(train_label)[permutation]\n",
        "'''"
      ],
      "metadata": {
        "id": "71G1sdfRgRTj"
      },
      "execution_count": null,
      "outputs": []
    },
    {
      "cell_type": "code",
      "source": [
        "'''\n",
        "自定義資料，用迴圈製作批次效果\n",
        "import numpy as np\n",
        "\n",
        "data = [...]  # 假設這是你的樣本資料\n",
        "labels = [...]  # 假設這是對應的標籤資料\n",
        "batch_size = 32  # 批次大小\n",
        "\n",
        "num_samples = len(train_array)\n",
        "num_batches = num_samples // batch_size\n",
        "\n",
        "for batch_idx in range(num_batches):\n",
        "    start_idx = batch_idx * batch_size\n",
        "    end_idx = (batch_idx + 1) * batch_size\n",
        "    batch_data = train_array[start_idx:end_idx]\n",
        "    batch_labels = train_label[start_idx:end_idx]\n",
        "\n",
        "    # 對批次資料進行處理\n",
        "    # 例如，將它們傳遞給你的模型進行訓練或推論\n",
        "\n",
        "    # 假設你使用 NumPy 來處理數據，你可以將批次資料和標籤轉換為 NumPy 陣列：\n",
        "    batch_data_array = np.array(batch_data)\n",
        "    batch_labels_array = np.array(batch_labels)\n",
        "\n",
        "    # 在這裡對批次資料和標籤進行進一步的操作...\n",
        "\n",
        "# 處理最後一個批次（可能大小不滿 batch_size）\n",
        "if num_samples % batch_size != 0:\n",
        "    start_idx = num_batches * batch_size\n",
        "    batch_data = train_array[start_idx:]\n",
        "    batch_labels = train_label[start_idx:]\n",
        "\n",
        "    # 對最後一個批次資料進行處理\n",
        "    # 例如，將它們傳遞給你的模型進行訓練或推論\n",
        "\n",
        "    # 假設你使用 NumPy 來處理數據，你可以將最後一個批次資料和標籤轉換為 NumPy 陣列：\n",
        "    batch_data_array = np.array(batch_data)\n",
        "    batch_labels_array = np.array(batch_labels)\n",
        "\n",
        "    # 在這裡對最後一個批次資料和標籤進行進一步的操作...\n",
        "'''"
      ],
      "metadata": {
        "id": "u6SA3jQogCGl"
      },
      "execution_count": null,
      "outputs": []
    },
    {
      "cell_type": "code",
      "source": [],
      "metadata": {
        "id": "Pw1oC73zgH6Q"
      },
      "execution_count": null,
      "outputs": []
    }
  ]
}