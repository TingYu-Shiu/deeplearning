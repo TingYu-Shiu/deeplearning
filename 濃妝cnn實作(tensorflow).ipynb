{
  "cells": [
    {
      "cell_type": "code",
      "execution_count": null,
      "metadata": {
        "id": "xvZNMntd6I1j"
      },
      "outputs": [],
      "source": [
        "import zipfile\n",
        "\n",
        "with zipfile.ZipFile(\"heavy_makeup_CelebA.zip\",\"r\") as zip_file:\n",
        "  zip_file.extractall(\"heavy_makeup_CelebA\")"
      ]
    },
    {
      "cell_type": "code",
      "source": [
        "%load_ext tensorboard\n",
        "\n",
        "#加載 TensorBoard 擴展"
      ],
      "metadata": {
        "colab": {
          "base_uri": "https://localhost:8080/"
        },
        "id": "aUAxXT_JiAur",
        "outputId": "1805f90e-e9bc-4f56-f6e2-e9c64434640c"
      },
      "execution_count": null,
      "outputs": [
        {
          "output_type": "stream",
          "name": "stdout",
          "text": [
            "The tensorboard extension is already loaded. To reload it, use:\n",
            "  %reload_ext tensorboard\n"
          ]
        }
      ]
    },
    {
      "cell_type": "code",
      "source": [
        "import tensorboard"
      ],
      "metadata": {
        "id": "hlZUTGRDiK8C"
      },
      "execution_count": null,
      "outputs": []
    },
    {
      "cell_type": "code",
      "source": [
        "!rm -rf ./logs/\n",
        "#移除之前產生的任何日誌"
      ],
      "metadata": {
        "id": "CfYeHwVIiR_O"
      },
      "execution_count": null,
      "outputs": []
    },
    {
      "cell_type": "code",
      "source": [
        "import tensorflow as tf\n",
        "from tensorflow.keras.preprocessing.image import ImageDataGenerator\n",
        "\n",
        "# 定義資料路徑\n",
        "train_data_dir = 'heavy_makeup_CelebA/heavy_makeup_CelebA/train'\n",
        "validation_data_dir = 'heavy_makeup_CelebA/heavy_makeup_CelebA/val'\n",
        "\n",
        "\n",
        "# 定義圖片參數\n",
        "img_width, img_height = 64, 64\n",
        "batch_size = 32\n",
        "num_epochs = 3\n",
        "\n",
        "# 使用ImageDataGenerator來讀取和增強圖片資料\n",
        "train_datagen = ImageDataGenerator(\n",
        "    rescale=1.0 / 255,\n",
        "    shear_range=0.2,\n",
        "    zoom_range=0.2,\n",
        "    horizontal_flip=True,\n",
        "    rotation_range=30,\n",
        "    width_shift_range=0.1,\n",
        "    height_shift_range=0.1,\n",
        "    brightness_range=(0.8, 1.2),\n",
        "    channel_shift_range=20,\n",
        "    vertical_flip=True\n",
        ")\n",
        "\n",
        "validation_datagen = ImageDataGenerator(rescale=1.0 / 255)\n",
        "\n",
        "# 讀取訓練資料和驗證資料\n",
        "train_generator = train_datagen.flow_from_directory(\n",
        "    train_data_dir,\n",
        "    target_size=(img_width, img_height),\n",
        "    batch_size=batch_size,\n",
        "    class_mode='binary'\n",
        ")\n",
        "\n",
        "validation_generator = validation_datagen.flow_from_directory(\n",
        "    validation_data_dir,\n",
        "    target_size=(img_width, img_height),\n",
        "    batch_size=batch_size,\n",
        "    class_mode='binary'\n",
        ")"
      ],
      "metadata": {
        "colab": {
          "base_uri": "https://localhost:8080/"
        },
        "id": "AJWJhMisYJNt",
        "outputId": "eb58f460-b1bf-44ea-9606-e93bd00d7d49"
      },
      "execution_count": null,
      "outputs": [
        {
          "output_type": "stream",
          "name": "stdout",
          "text": [
            "Found 2000 images belonging to 2 classes.\n",
            "Found 400 images belonging to 2 classes.\n"
          ]
        }
      ]
    },
    {
      "cell_type": "code",
      "source": [
        "# 建立模型\n",
        "class Model3(tf.keras.Model):\n",
        "    def __init__(self):\n",
        "        super(Model3, self).__init__()\n",
        "\n",
        "        self.conv_block_1 = tf.keras.Sequential([\n",
        "            tf.keras.layers.Conv2D(filters=16,kernel_size=(3, 3), strides=1, padding='same', activation='relu', input_shape=((64,64,3))),\n",
        "            tf.keras.layers.Conv2D(filters=16, kernel_size=(3, 3), strides=1, padding='same', activation='relu'),\n",
        "            tf.keras.layers.MaxPooling2D(pool_size=(2, 2), strides=2)\n",
        "            #tf.keras.layers.BatchNormalization()，需搭配 training =True, 測試需要關掉(通常在激活函數之前進行)\n",
        "            #tf.keras.activations.relu()\n",
        "        ])\n",
        "\n",
        "        self.conv_block_2 = tf.keras.Sequential([\n",
        "            tf.keras.layers.Conv2D(filters=32, kernel_size=(3, 3), strides=1, padding='same', activation='relu'),\n",
        "            tf.keras.layers.Conv2D(filters=32, kernel_size=(3, 3), strides=1, padding='same', activation='relu'),\n",
        "            tf.keras.layers.MaxPooling2D(pool_size=(2, 2), strides=2)])\n",
        "\n",
        "        self.classifier = tf.keras.Sequential([\n",
        "            tf.keras.layers.Flatten(),\n",
        "            tf.keras.layers.Dense(units=1,activation='sigmoid')\n",
        "        ])\n",
        "\n",
        "    def call(self, inputs):\n",
        "        inputs = tf.cast(inputs, dtype=tf.float32)  # 將輸入轉換為 float32\n",
        "        x = self.conv_block_1(inputs)\n",
        "        x = self.conv_block_2(x)\n",
        "        x = self.classifier(x)\n",
        "        return x\n",
        "\n",
        "\n",
        "# 編譯模型\n",
        "\n",
        "model =Model3()\n",
        "\n",
        "model.compile(optimizer='Adam', loss=tf.keras.losses.BinaryCrossentropy(), metrics=['accuracy'])\n",
        "\n",
        "\n"
      ],
      "metadata": {
        "id": "Swkn7vy_HFtg",
        "colab": {
          "base_uri": "https://localhost:8080/"
        },
        "outputId": "047c88cf-69df-4913-88be-d3d88023cb02"
      },
      "execution_count": null,
      "outputs": [
        {
          "output_type": "stream",
          "name": "stdout",
          "text": [
            "Found 2000 images belonging to 2 classes.\n",
            "Found 400 images belonging to 2 classes.\n"
          ]
        }
      ]
    },
    {
      "cell_type": "code",
      "source": [
        "logdir =\"./logs\"\n",
        "tensorboard_callback = tf.keras.callbacks.TensorBoard(log_dir=logdir)"
      ],
      "metadata": {
        "id": "WaU3RRtvik_O"
      },
      "execution_count": null,
      "outputs": []
    },
    {
      "cell_type": "code",
      "source": [
        "model.fit(\n",
        "    train_generator,\n",
        "    epochs=100,\n",
        "    validation_data=validation_generator,\n",
        "    callbacks=[tensorboard_callback]\n",
        ")"
      ],
      "metadata": {
        "id": "_quuvO2Dc2M4"
      },
      "execution_count": null,
      "outputs": []
    },
    {
      "cell_type": "code",
      "source": [
        "%tensorboard --logdir logs --port 6008"
      ],
      "metadata": {
        "id": "rI_9ZQw9jHrO"
      },
      "execution_count": null,
      "outputs": []
    },
    {
      "cell_type": "code",
      "source": [
        "u = validation_generator[0][0][:1]\n",
        "u.shape"
      ],
      "metadata": {
        "id": "lySIgLs7hjdc",
        "colab": {
          "base_uri": "https://localhost:8080/"
        },
        "outputId": "74c8a01b-7837-4731-c7d8-5d90506423d8"
      },
      "execution_count": null,
      "outputs": [
        {
          "output_type": "execute_result",
          "data": {
            "text/plain": [
              "(1, 64, 64, 3)"
            ]
          },
          "metadata": {},
          "execution_count": 75
        }
      ]
    },
    {
      "cell_type": "code",
      "source": [
        "import numpy as np\n",
        "\n",
        "c = model.predict(u)\n",
        "c"
      ],
      "metadata": {
        "id": "2V6vfzRKh24z",
        "colab": {
          "base_uri": "https://localhost:8080/"
        },
        "outputId": "85b3266b-766e-4380-9039-f66b3333253f"
      },
      "execution_count": null,
      "outputs": [
        {
          "output_type": "stream",
          "name": "stdout",
          "text": [
            "1/1 [==============================] - 0s 130ms/step\n"
          ]
        },
        {
          "output_type": "execute_result",
          "data": {
            "text/plain": [
              "array([[0.5882347]], dtype=float32)"
            ]
          },
          "metadata": {},
          "execution_count": 76
        }
      ]
    },
    {
      "cell_type": "code",
      "source": [
        "from google.colab import drive\n",
        "drive.mount('./drive')"
      ],
      "metadata": {
        "id": "Ia-fv5MNWfXc",
        "colab": {
          "base_uri": "https://localhost:8080/"
        },
        "outputId": "c156a3be-7755-4c9e-ba15-517e5708c173"
      },
      "execution_count": null,
      "outputs": [
        {
          "output_type": "stream",
          "name": "stdout",
          "text": [
            "Mounted at ./drive\n"
          ]
        }
      ]
    },
    {
      "cell_type": "code",
      "source": [
        "model.save('./model')"
      ],
      "metadata": {
        "id": "4H4pFCVWSX9L"
      },
      "execution_count": null,
      "outputs": []
    },
    {
      "cell_type": "code",
      "source": [
        "loaded_model = tf.keras.models.load_model('./model')"
      ],
      "metadata": {
        "id": "lV4dBB-xUjHp"
      },
      "execution_count": null,
      "outputs": []
    },
    {
      "cell_type": "code",
      "source": [
        "loaded_model.summary()"
      ],
      "metadata": {
        "id": "DDsvdRvNUzDR"
      },
      "execution_count": null,
      "outputs": []
    },
    {
      "cell_type": "code",
      "source": [
        "base = tf.keras.applications.MobileNetV2(input_shape=(64, 64, 3), include_top=False, weights='imagenet')\n",
        "base.trainable = False\n",
        "net = tf.keras.layers.GlobalAveragePooling2D()(base.output)\n",
        "net = tf.keras.layers.Dense(1,activation='sigmoid')(net)\n",
        "\n",
        "model1 = tf.keras.Model(inputs=[base.input], outputs=[net])"
      ],
      "metadata": {
        "colab": {
          "base_uri": "https://localhost:8080/"
        },
        "id": "SntgqK6publ1",
        "outputId": "3b64dad3-82be-4cbb-e7fb-ec050e144550"
      },
      "execution_count": null,
      "outputs": [
        {
          "output_type": "stream",
          "name": "stderr",
          "text": [
            "WARNING:tensorflow:`input_shape` is undefined or non-square, or `rows` is not in [96, 128, 160, 192, 224]. Weights for input shape (224, 224) will be loaded as the default.\n"
          ]
        }
      ]
    },
    {
      "cell_type": "code",
      "source": [
        "model1.compile(optimizer='Adam', loss=tf.keras.losses.BinaryCrossentropy(), metrics=['accuracy'])\n"
      ],
      "metadata": {
        "id": "419EgT0hYUf-"
      },
      "execution_count": null,
      "outputs": []
    },
    {
      "cell_type": "code",
      "source": [
        "history = model1.fit(\n",
        "    train_generator,\n",
        "    epochs=100,\n",
        "    validation_data=validation_generator)"
      ],
      "metadata": {
        "id": "eaYuepMKYhYD"
      },
      "execution_count": null,
      "outputs": []
    },
    {
      "cell_type": "code",
      "source": [
        "plt.plot(range(0,len(history.history['loss'])),history.history['loss'],label='train_cost')\n",
        "plt.plot(range(0,len(history.history['val_loss'])),history.history['val_loss'],label='test_cost')\n",
        "plt.legend()"
      ],
      "metadata": {
        "id": "7CAb3PaYYxYg"
      },
      "execution_count": null,
      "outputs": []
    }
  ],
  "metadata": {
    "colab": {
      "provenance": []
    },
    "kernelspec": {
      "display_name": "Python 3",
      "name": "python3"
    },
    "language_info": {
      "name": "python"
    }
  },
  "nbformat": 4,
  "nbformat_minor": 0
}